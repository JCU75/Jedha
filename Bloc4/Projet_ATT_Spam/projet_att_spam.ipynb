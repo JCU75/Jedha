{
  "cells": [
    {
      "cell_type": "markdown",
      "metadata": {
        "id": "ygAI10h22a5Q"
      },
      "source": [
        "<img src=\"https://full-stack-assets.s3.eu-west-3.amazonaws.com/M08-deep-learning/AT%26T_logo_2016.svg\" alt=\"AT&T LOGO\" width=\"50%\" height=\"50%\"/>"
      ]
    },
    {
      "cell_type": "markdown",
      "metadata": {
        "id": "b8oo5BOl2rKu"
      },
      "source": [
        "# ATT SPAM DETECTOR\n",
        "## Company's Description 📇\n",
        "\n",
        "AT&T Inc. is an American multinational telecommunications holding company headquartered at Whitacre Tower in Downtown Dallas, Texas. It is the world's largest telecommunications company by revenue and the third largest provider of mobile telephone services in the U.S. As of 2022, AT&T was ranked 13th on the Fortune 500 rankings of the largest United States corporations, with revenues of $168.8 billion! 😮\n",
        "\n",
        "## Project 🚧\n",
        "\n",
        "One of the main pain point that AT&T users are facing is constant exposure to SPAM messages.\n",
        "\n",
        "AT&T has been able to manually flag spam messages for a time, but they are looking for an automated way of detecting spams to protect their users.\n",
        "\n",
        "## Goals 🎯\n",
        "\n",
        "Your goal is to build a spam detector, that can automatically flag spams as they come based solely on the sms' content."
      ]
    },
    {
      "cell_type": "markdown",
      "metadata": {
        "id": "KGcpYWqG3HBn"
      },
      "source": [
        "# 1. Importing data"
      ]
    },
    {
      "cell_type": "code",
      "execution_count": 1,
      "metadata": {
        "id": "jna5HR9v2W4F"
      },
      "outputs": [],
      "source": [
        "import pandas as pd\n",
        "import numpy as np"
      ]
    },
    {
      "cell_type": "code",
      "execution_count": 2,
      "metadata": {
        "id": "IbaKqAVq34Ze"
      },
      "outputs": [],
      "source": [
        "df = pd.read_csv('spam.csv', encoding='latin-1')"
      ]
    },
    {
      "cell_type": "code",
      "execution_count": 3,
      "metadata": {
        "colab": {
          "base_uri": "https://localhost:8080/"
        },
        "id": "9HN1KkYE38bu",
        "outputId": "cc4a30c6-464d-495e-b76b-87c0c12ac63d"
      },
      "outputs": [
        {
          "data": {
            "text/plain": [
              "(5572, 5)"
            ]
          },
          "execution_count": 3,
          "metadata": {},
          "output_type": "execute_result"
        }
      ],
      "source": [
        "df.shape"
      ]
    },
    {
      "cell_type": "code",
      "execution_count": 4,
      "metadata": {
        "colab": {
          "base_uri": "https://localhost:8080/",
          "height": 363
        },
        "id": "TOTUm0C34Hon",
        "outputId": "df8b059f-bfe6-4144-f596-59ec1ea59f02"
      },
      "outputs": [
        {
          "data": {
            "application/vnd.microsoft.datawrangler.viewer.v0+json": {
              "columns": [
                {
                  "name": "index",
                  "rawType": "int64",
                  "type": "integer"
                },
                {
                  "name": "v1",
                  "rawType": "object",
                  "type": "string"
                },
                {
                  "name": "v2",
                  "rawType": "object",
                  "type": "string"
                },
                {
                  "name": "Unnamed: 2",
                  "rawType": "object",
                  "type": "unknown"
                },
                {
                  "name": "Unnamed: 3",
                  "rawType": "object",
                  "type": "unknown"
                },
                {
                  "name": "Unnamed: 4",
                  "rawType": "object",
                  "type": "unknown"
                }
              ],
              "ref": "8ae1da99-41c3-4632-a416-ef888ca7dfc0",
              "rows": [
                [
                  "0",
                  "ham",
                  "Go until jurong point, crazy.. Available only in bugis n great world la e buffet... Cine there got amore wat...",
                  null,
                  null,
                  null
                ],
                [
                  "1",
                  "ham",
                  "Ok lar... Joking wif u oni...",
                  null,
                  null,
                  null
                ],
                [
                  "2",
                  "spam",
                  "Free entry in 2 a wkly comp to win FA Cup final tkts 21st May 2005. Text FA to 87121 to receive entry question(std txt rate)T&C's apply 08452810075over18's",
                  null,
                  null,
                  null
                ],
                [
                  "3",
                  "ham",
                  "U dun say so early hor... U c already then say...",
                  null,
                  null,
                  null
                ],
                [
                  "4",
                  "ham",
                  "Nah I don't think he goes to usf, he lives around here though",
                  null,
                  null,
                  null
                ],
                [
                  "5",
                  "spam",
                  "FreeMsg Hey there darling it's been 3 week's now and no word back! I'd like some fun you up for it still? Tb ok! XxX std chgs to send, å£1.50 to rcv",
                  null,
                  null,
                  null
                ],
                [
                  "6",
                  "ham",
                  "Even my brother is not like to speak with me. They treat me like aids patent.",
                  null,
                  null,
                  null
                ],
                [
                  "7",
                  "ham",
                  "As per your request 'Melle Melle (Oru Minnaminunginte Nurungu Vettam)' has been set as your callertune for all Callers. Press *9 to copy your friends Callertune",
                  null,
                  null,
                  null
                ],
                [
                  "8",
                  "spam",
                  "WINNER!! As a valued network customer you have been selected to receivea å£900 prize reward! To claim call 09061701461. Claim code KL341. Valid 12 hours only.",
                  null,
                  null,
                  null
                ],
                [
                  "9",
                  "spam",
                  "Had your mobile 11 months or more? U R entitled to Update to the latest colour mobiles with camera for Free! Call The Mobile Update Co FREE on 08002986030",
                  null,
                  null,
                  null
                ]
              ],
              "shape": {
                "columns": 5,
                "rows": 10
              }
            },
            "text/html": [
              "<div>\n",
              "<style scoped>\n",
              "    .dataframe tbody tr th:only-of-type {\n",
              "        vertical-align: middle;\n",
              "    }\n",
              "\n",
              "    .dataframe tbody tr th {\n",
              "        vertical-align: top;\n",
              "    }\n",
              "\n",
              "    .dataframe thead th {\n",
              "        text-align: right;\n",
              "    }\n",
              "</style>\n",
              "<table border=\"1\" class=\"dataframe\">\n",
              "  <thead>\n",
              "    <tr style=\"text-align: right;\">\n",
              "      <th></th>\n",
              "      <th>v1</th>\n",
              "      <th>v2</th>\n",
              "      <th>Unnamed: 2</th>\n",
              "      <th>Unnamed: 3</th>\n",
              "      <th>Unnamed: 4</th>\n",
              "    </tr>\n",
              "  </thead>\n",
              "  <tbody>\n",
              "    <tr>\n",
              "      <th>0</th>\n",
              "      <td>ham</td>\n",
              "      <td>Go until jurong point, crazy.. Available only ...</td>\n",
              "      <td>NaN</td>\n",
              "      <td>NaN</td>\n",
              "      <td>NaN</td>\n",
              "    </tr>\n",
              "    <tr>\n",
              "      <th>1</th>\n",
              "      <td>ham</td>\n",
              "      <td>Ok lar... Joking wif u oni...</td>\n",
              "      <td>NaN</td>\n",
              "      <td>NaN</td>\n",
              "      <td>NaN</td>\n",
              "    </tr>\n",
              "    <tr>\n",
              "      <th>2</th>\n",
              "      <td>spam</td>\n",
              "      <td>Free entry in 2 a wkly comp to win FA Cup fina...</td>\n",
              "      <td>NaN</td>\n",
              "      <td>NaN</td>\n",
              "      <td>NaN</td>\n",
              "    </tr>\n",
              "    <tr>\n",
              "      <th>3</th>\n",
              "      <td>ham</td>\n",
              "      <td>U dun say so early hor... U c already then say...</td>\n",
              "      <td>NaN</td>\n",
              "      <td>NaN</td>\n",
              "      <td>NaN</td>\n",
              "    </tr>\n",
              "    <tr>\n",
              "      <th>4</th>\n",
              "      <td>ham</td>\n",
              "      <td>Nah I don't think he goes to usf, he lives aro...</td>\n",
              "      <td>NaN</td>\n",
              "      <td>NaN</td>\n",
              "      <td>NaN</td>\n",
              "    </tr>\n",
              "    <tr>\n",
              "      <th>5</th>\n",
              "      <td>spam</td>\n",
              "      <td>FreeMsg Hey there darling it's been 3 week's n...</td>\n",
              "      <td>NaN</td>\n",
              "      <td>NaN</td>\n",
              "      <td>NaN</td>\n",
              "    </tr>\n",
              "    <tr>\n",
              "      <th>6</th>\n",
              "      <td>ham</td>\n",
              "      <td>Even my brother is not like to speak with me. ...</td>\n",
              "      <td>NaN</td>\n",
              "      <td>NaN</td>\n",
              "      <td>NaN</td>\n",
              "    </tr>\n",
              "    <tr>\n",
              "      <th>7</th>\n",
              "      <td>ham</td>\n",
              "      <td>As per your request 'Melle Melle (Oru Minnamin...</td>\n",
              "      <td>NaN</td>\n",
              "      <td>NaN</td>\n",
              "      <td>NaN</td>\n",
              "    </tr>\n",
              "    <tr>\n",
              "      <th>8</th>\n",
              "      <td>spam</td>\n",
              "      <td>WINNER!! As a valued network customer you have...</td>\n",
              "      <td>NaN</td>\n",
              "      <td>NaN</td>\n",
              "      <td>NaN</td>\n",
              "    </tr>\n",
              "    <tr>\n",
              "      <th>9</th>\n",
              "      <td>spam</td>\n",
              "      <td>Had your mobile 11 months or more? U R entitle...</td>\n",
              "      <td>NaN</td>\n",
              "      <td>NaN</td>\n",
              "      <td>NaN</td>\n",
              "    </tr>\n",
              "  </tbody>\n",
              "</table>\n",
              "</div>"
            ],
            "text/plain": [
              "     v1                                                 v2 Unnamed: 2  \\\n",
              "0   ham  Go until jurong point, crazy.. Available only ...        NaN   \n",
              "1   ham                      Ok lar... Joking wif u oni...        NaN   \n",
              "2  spam  Free entry in 2 a wkly comp to win FA Cup fina...        NaN   \n",
              "3   ham  U dun say so early hor... U c already then say...        NaN   \n",
              "4   ham  Nah I don't think he goes to usf, he lives aro...        NaN   \n",
              "5  spam  FreeMsg Hey there darling it's been 3 week's n...        NaN   \n",
              "6   ham  Even my brother is not like to speak with me. ...        NaN   \n",
              "7   ham  As per your request 'Melle Melle (Oru Minnamin...        NaN   \n",
              "8  spam  WINNER!! As a valued network customer you have...        NaN   \n",
              "9  spam  Had your mobile 11 months or more? U R entitle...        NaN   \n",
              "\n",
              "  Unnamed: 3 Unnamed: 4  \n",
              "0        NaN        NaN  \n",
              "1        NaN        NaN  \n",
              "2        NaN        NaN  \n",
              "3        NaN        NaN  \n",
              "4        NaN        NaN  \n",
              "5        NaN        NaN  \n",
              "6        NaN        NaN  \n",
              "7        NaN        NaN  \n",
              "8        NaN        NaN  \n",
              "9        NaN        NaN  "
            ]
          },
          "execution_count": 4,
          "metadata": {},
          "output_type": "execute_result"
        }
      ],
      "source": [
        "df.head(10)"
      ]
    },
    {
      "cell_type": "code",
      "execution_count": 5,
      "metadata": {
        "colab": {
          "base_uri": "https://localhost:8080/",
          "height": 363
        },
        "id": "nrWZGFLE4MHM",
        "outputId": "6753ccce-f5d5-4f65-8076-6f8cd3eafed0"
      },
      "outputs": [
        {
          "data": {
            "application/vnd.microsoft.datawrangler.viewer.v0+json": {
              "columns": [
                {
                  "name": "index",
                  "rawType": "int64",
                  "type": "integer"
                },
                {
                  "name": "v1",
                  "rawType": "object",
                  "type": "string"
                },
                {
                  "name": "v2",
                  "rawType": "object",
                  "type": "string"
                },
                {
                  "name": "Unnamed: 2",
                  "rawType": "object",
                  "type": "unknown"
                },
                {
                  "name": "Unnamed: 3",
                  "rawType": "object",
                  "type": "unknown"
                },
                {
                  "name": "Unnamed: 4",
                  "rawType": "object",
                  "type": "unknown"
                }
              ],
              "ref": "03c0b30d-46b3-4a25-a025-6f3e93c66a39",
              "rows": [
                [
                  "5562",
                  "ham",
                  "Ok lor... Sony ericsson salesman... I ask shuhui then she say quite gd 2 use so i considering...",
                  null,
                  null,
                  null
                ],
                [
                  "5563",
                  "ham",
                  "Ard 6 like dat lor.",
                  null,
                  null,
                  null
                ],
                [
                  "5564",
                  "ham",
                  "Why don't you wait 'til at least wednesday to see if you get your .",
                  null,
                  null,
                  null
                ],
                [
                  "5565",
                  "ham",
                  "Huh y lei...",
                  null,
                  null,
                  null
                ],
                [
                  "5566",
                  "spam",
                  "REMINDER FROM O2: To get 2.50 pounds free call credit and details of great offers pls reply 2 this text with your valid name, house no and postcode",
                  null,
                  null,
                  null
                ],
                [
                  "5567",
                  "spam",
                  "This is the 2nd time we have tried 2 contact u. U have won the å£750 Pound prize. 2 claim is easy, call 087187272008 NOW1! Only 10p per minute. BT-national-rate.",
                  null,
                  null,
                  null
                ],
                [
                  "5568",
                  "ham",
                  "Will Ì_ b going to esplanade fr home?",
                  null,
                  null,
                  null
                ],
                [
                  "5569",
                  "ham",
                  "Pity, * was in mood for that. So...any other suggestions?",
                  null,
                  null,
                  null
                ],
                [
                  "5570",
                  "ham",
                  "The guy did some bitching but I acted like i'd be interested in buying something else next week and he gave it to us for free",
                  null,
                  null,
                  null
                ],
                [
                  "5571",
                  "ham",
                  "Rofl. Its true to its name",
                  null,
                  null,
                  null
                ]
              ],
              "shape": {
                "columns": 5,
                "rows": 10
              }
            },
            "text/html": [
              "<div>\n",
              "<style scoped>\n",
              "    .dataframe tbody tr th:only-of-type {\n",
              "        vertical-align: middle;\n",
              "    }\n",
              "\n",
              "    .dataframe tbody tr th {\n",
              "        vertical-align: top;\n",
              "    }\n",
              "\n",
              "    .dataframe thead th {\n",
              "        text-align: right;\n",
              "    }\n",
              "</style>\n",
              "<table border=\"1\" class=\"dataframe\">\n",
              "  <thead>\n",
              "    <tr style=\"text-align: right;\">\n",
              "      <th></th>\n",
              "      <th>v1</th>\n",
              "      <th>v2</th>\n",
              "      <th>Unnamed: 2</th>\n",
              "      <th>Unnamed: 3</th>\n",
              "      <th>Unnamed: 4</th>\n",
              "    </tr>\n",
              "  </thead>\n",
              "  <tbody>\n",
              "    <tr>\n",
              "      <th>5562</th>\n",
              "      <td>ham</td>\n",
              "      <td>Ok lor... Sony ericsson salesman... I ask shuh...</td>\n",
              "      <td>NaN</td>\n",
              "      <td>NaN</td>\n",
              "      <td>NaN</td>\n",
              "    </tr>\n",
              "    <tr>\n",
              "      <th>5563</th>\n",
              "      <td>ham</td>\n",
              "      <td>Ard 6 like dat lor.</td>\n",
              "      <td>NaN</td>\n",
              "      <td>NaN</td>\n",
              "      <td>NaN</td>\n",
              "    </tr>\n",
              "    <tr>\n",
              "      <th>5564</th>\n",
              "      <td>ham</td>\n",
              "      <td>Why don't you wait 'til at least wednesday to ...</td>\n",
              "      <td>NaN</td>\n",
              "      <td>NaN</td>\n",
              "      <td>NaN</td>\n",
              "    </tr>\n",
              "    <tr>\n",
              "      <th>5565</th>\n",
              "      <td>ham</td>\n",
              "      <td>Huh y lei...</td>\n",
              "      <td>NaN</td>\n",
              "      <td>NaN</td>\n",
              "      <td>NaN</td>\n",
              "    </tr>\n",
              "    <tr>\n",
              "      <th>5566</th>\n",
              "      <td>spam</td>\n",
              "      <td>REMINDER FROM O2: To get 2.50 pounds free call...</td>\n",
              "      <td>NaN</td>\n",
              "      <td>NaN</td>\n",
              "      <td>NaN</td>\n",
              "    </tr>\n",
              "    <tr>\n",
              "      <th>5567</th>\n",
              "      <td>spam</td>\n",
              "      <td>This is the 2nd time we have tried 2 contact u...</td>\n",
              "      <td>NaN</td>\n",
              "      <td>NaN</td>\n",
              "      <td>NaN</td>\n",
              "    </tr>\n",
              "    <tr>\n",
              "      <th>5568</th>\n",
              "      <td>ham</td>\n",
              "      <td>Will Ì_ b going to esplanade fr home?</td>\n",
              "      <td>NaN</td>\n",
              "      <td>NaN</td>\n",
              "      <td>NaN</td>\n",
              "    </tr>\n",
              "    <tr>\n",
              "      <th>5569</th>\n",
              "      <td>ham</td>\n",
              "      <td>Pity, * was in mood for that. So...any other s...</td>\n",
              "      <td>NaN</td>\n",
              "      <td>NaN</td>\n",
              "      <td>NaN</td>\n",
              "    </tr>\n",
              "    <tr>\n",
              "      <th>5570</th>\n",
              "      <td>ham</td>\n",
              "      <td>The guy did some bitching but I acted like i'd...</td>\n",
              "      <td>NaN</td>\n",
              "      <td>NaN</td>\n",
              "      <td>NaN</td>\n",
              "    </tr>\n",
              "    <tr>\n",
              "      <th>5571</th>\n",
              "      <td>ham</td>\n",
              "      <td>Rofl. Its true to its name</td>\n",
              "      <td>NaN</td>\n",
              "      <td>NaN</td>\n",
              "      <td>NaN</td>\n",
              "    </tr>\n",
              "  </tbody>\n",
              "</table>\n",
              "</div>"
            ],
            "text/plain": [
              "        v1                                                 v2 Unnamed: 2  \\\n",
              "5562   ham  Ok lor... Sony ericsson salesman... I ask shuh...        NaN   \n",
              "5563   ham                                Ard 6 like dat lor.        NaN   \n",
              "5564   ham  Why don't you wait 'til at least wednesday to ...        NaN   \n",
              "5565   ham                                       Huh y lei...        NaN   \n",
              "5566  spam  REMINDER FROM O2: To get 2.50 pounds free call...        NaN   \n",
              "5567  spam  This is the 2nd time we have tried 2 contact u...        NaN   \n",
              "5568   ham              Will Ì_ b going to esplanade fr home?        NaN   \n",
              "5569   ham  Pity, * was in mood for that. So...any other s...        NaN   \n",
              "5570   ham  The guy did some bitching but I acted like i'd...        NaN   \n",
              "5571   ham                         Rofl. Its true to its name        NaN   \n",
              "\n",
              "     Unnamed: 3 Unnamed: 4  \n",
              "5562        NaN        NaN  \n",
              "5563        NaN        NaN  \n",
              "5564        NaN        NaN  \n",
              "5565        NaN        NaN  \n",
              "5566        NaN        NaN  \n",
              "5567        NaN        NaN  \n",
              "5568        NaN        NaN  \n",
              "5569        NaN        NaN  \n",
              "5570        NaN        NaN  \n",
              "5571        NaN        NaN  "
            ]
          },
          "execution_count": 5,
          "metadata": {},
          "output_type": "execute_result"
        }
      ],
      "source": [
        "df.tail(10)"
      ]
    },
    {
      "cell_type": "code",
      "execution_count": 6,
      "metadata": {
        "colab": {
          "base_uri": "https://localhost:8080/",
          "height": 175
        },
        "id": "2_mkp5_S4QnT",
        "outputId": "ed9c66df-8f82-4ba2-d019-70fb09eb2b56"
      },
      "outputs": [
        {
          "data": {
            "application/vnd.microsoft.datawrangler.viewer.v0+json": {
              "columns": [
                {
                  "name": "index",
                  "rawType": "object",
                  "type": "string"
                },
                {
                  "name": "v1",
                  "rawType": "object",
                  "type": "unknown"
                },
                {
                  "name": "v2",
                  "rawType": "object",
                  "type": "unknown"
                },
                {
                  "name": "Unnamed: 2",
                  "rawType": "object",
                  "type": "unknown"
                },
                {
                  "name": "Unnamed: 3",
                  "rawType": "object",
                  "type": "unknown"
                },
                {
                  "name": "Unnamed: 4",
                  "rawType": "object",
                  "type": "unknown"
                }
              ],
              "ref": "e8cfd17e-dc42-4189-b2df-4444ceacff2a",
              "rows": [
                [
                  "count",
                  "5572",
                  "5572",
                  "50",
                  "12",
                  "6"
                ],
                [
                  "unique",
                  "2",
                  "5169",
                  "43",
                  "10",
                  "5"
                ],
                [
                  "top",
                  "ham",
                  "Sorry, I'll call later",
                  " bt not his girlfrnd... G o o d n i g h t . . .@\"",
                  " MK17 92H. 450Ppw 16\"",
                  "GNT:-)\""
                ],
                [
                  "freq",
                  "4825",
                  "30",
                  "3",
                  "2",
                  "2"
                ]
              ],
              "shape": {
                "columns": 5,
                "rows": 4
              }
            },
            "text/html": [
              "<div>\n",
              "<style scoped>\n",
              "    .dataframe tbody tr th:only-of-type {\n",
              "        vertical-align: middle;\n",
              "    }\n",
              "\n",
              "    .dataframe tbody tr th {\n",
              "        vertical-align: top;\n",
              "    }\n",
              "\n",
              "    .dataframe thead th {\n",
              "        text-align: right;\n",
              "    }\n",
              "</style>\n",
              "<table border=\"1\" class=\"dataframe\">\n",
              "  <thead>\n",
              "    <tr style=\"text-align: right;\">\n",
              "      <th></th>\n",
              "      <th>v1</th>\n",
              "      <th>v2</th>\n",
              "      <th>Unnamed: 2</th>\n",
              "      <th>Unnamed: 3</th>\n",
              "      <th>Unnamed: 4</th>\n",
              "    </tr>\n",
              "  </thead>\n",
              "  <tbody>\n",
              "    <tr>\n",
              "      <th>count</th>\n",
              "      <td>5572</td>\n",
              "      <td>5572</td>\n",
              "      <td>50</td>\n",
              "      <td>12</td>\n",
              "      <td>6</td>\n",
              "    </tr>\n",
              "    <tr>\n",
              "      <th>unique</th>\n",
              "      <td>2</td>\n",
              "      <td>5169</td>\n",
              "      <td>43</td>\n",
              "      <td>10</td>\n",
              "      <td>5</td>\n",
              "    </tr>\n",
              "    <tr>\n",
              "      <th>top</th>\n",
              "      <td>ham</td>\n",
              "      <td>Sorry, I'll call later</td>\n",
              "      <td>bt not his girlfrnd... G o o d n i g h t . . .@\"</td>\n",
              "      <td>MK17 92H. 450Ppw 16\"</td>\n",
              "      <td>GNT:-)\"</td>\n",
              "    </tr>\n",
              "    <tr>\n",
              "      <th>freq</th>\n",
              "      <td>4825</td>\n",
              "      <td>30</td>\n",
              "      <td>3</td>\n",
              "      <td>2</td>\n",
              "      <td>2</td>\n",
              "    </tr>\n",
              "  </tbody>\n",
              "</table>\n",
              "</div>"
            ],
            "text/plain": [
              "          v1                      v2  \\\n",
              "count   5572                    5572   \n",
              "unique     2                    5169   \n",
              "top      ham  Sorry, I'll call later   \n",
              "freq    4825                      30   \n",
              "\n",
              "                                               Unnamed: 2  \\\n",
              "count                                                  50   \n",
              "unique                                                 43   \n",
              "top      bt not his girlfrnd... G o o d n i g h t . . .@\"   \n",
              "freq                                                    3   \n",
              "\n",
              "                   Unnamed: 3 Unnamed: 4  \n",
              "count                      12          6  \n",
              "unique                     10          5  \n",
              "top      MK17 92H. 450Ppw 16\"    GNT:-)\"  \n",
              "freq                        2          2  "
            ]
          },
          "execution_count": 6,
          "metadata": {},
          "output_type": "execute_result"
        }
      ],
      "source": [
        "df.describe()"
      ]
    },
    {
      "cell_type": "code",
      "execution_count": 7,
      "metadata": {
        "colab": {
          "base_uri": "https://localhost:8080/",
          "height": 241
        },
        "id": "AXLjatRvP3Td",
        "outputId": "bde30f56-bba8-4b42-dcbf-77e9134fc088"
      },
      "outputs": [
        {
          "data": {
            "application/vnd.microsoft.datawrangler.viewer.v0+json": {
              "columns": [
                {
                  "name": "index",
                  "rawType": "object",
                  "type": "string"
                },
                {
                  "name": "0",
                  "rawType": "int64",
                  "type": "integer"
                }
              ],
              "ref": "55406672-06d7-46b1-82d4-f4944f584d22",
              "rows": [
                [
                  "v1",
                  "0"
                ],
                [
                  "v2",
                  "0"
                ],
                [
                  "Unnamed: 2",
                  "5522"
                ],
                [
                  "Unnamed: 3",
                  "5560"
                ],
                [
                  "Unnamed: 4",
                  "5566"
                ]
              ],
              "shape": {
                "columns": 1,
                "rows": 5
              }
            },
            "text/plain": [
              "v1               0\n",
              "v2               0\n",
              "Unnamed: 2    5522\n",
              "Unnamed: 3    5560\n",
              "Unnamed: 4    5566\n",
              "dtype: int64"
            ]
          },
          "execution_count": 7,
          "metadata": {},
          "output_type": "execute_result"
        }
      ],
      "source": [
        "df.isnull().sum()"
      ]
    },
    {
      "cell_type": "markdown",
      "metadata": {
        "id": "gc0qThCN4YLp"
      },
      "source": [
        "\n",
        "\n",
        "*   We can see that data have 3 columns \"Unnamed\" with practically only missing values : we we will delete this columns.\n",
        "*   Let's rename columns v1 and v2 for better understanding: v1 = **label** , v2 = **message**\n",
        "\n"
      ]
    },
    {
      "cell_type": "code",
      "execution_count": 8,
      "metadata": {
        "id": "PYQx_GQl5CqW"
      },
      "outputs": [],
      "source": [
        "df = df[['v1', 'v2']].copy()"
      ]
    },
    {
      "cell_type": "code",
      "execution_count": 9,
      "metadata": {
        "colab": {
          "base_uri": "https://localhost:8080/",
          "height": 206
        },
        "id": "vHeX_ShC5MMb",
        "outputId": "c11bd334-86d2-4f5f-e889-9a01517d6e51"
      },
      "outputs": [
        {
          "data": {
            "application/vnd.microsoft.datawrangler.viewer.v0+json": {
              "columns": [
                {
                  "name": "index",
                  "rawType": "int64",
                  "type": "integer"
                },
                {
                  "name": "v1",
                  "rawType": "object",
                  "type": "string"
                },
                {
                  "name": "v2",
                  "rawType": "object",
                  "type": "string"
                }
              ],
              "ref": "8dfdb854-ca17-4fdf-84b6-08ea04c266bc",
              "rows": [
                [
                  "0",
                  "ham",
                  "Go until jurong point, crazy.. Available only in bugis n great world la e buffet... Cine there got amore wat..."
                ],
                [
                  "1",
                  "ham",
                  "Ok lar... Joking wif u oni..."
                ],
                [
                  "2",
                  "spam",
                  "Free entry in 2 a wkly comp to win FA Cup final tkts 21st May 2005. Text FA to 87121 to receive entry question(std txt rate)T&C's apply 08452810075over18's"
                ],
                [
                  "3",
                  "ham",
                  "U dun say so early hor... U c already then say..."
                ],
                [
                  "4",
                  "ham",
                  "Nah I don't think he goes to usf, he lives around here though"
                ]
              ],
              "shape": {
                "columns": 2,
                "rows": 5
              }
            },
            "text/html": [
              "<div>\n",
              "<style scoped>\n",
              "    .dataframe tbody tr th:only-of-type {\n",
              "        vertical-align: middle;\n",
              "    }\n",
              "\n",
              "    .dataframe tbody tr th {\n",
              "        vertical-align: top;\n",
              "    }\n",
              "\n",
              "    .dataframe thead th {\n",
              "        text-align: right;\n",
              "    }\n",
              "</style>\n",
              "<table border=\"1\" class=\"dataframe\">\n",
              "  <thead>\n",
              "    <tr style=\"text-align: right;\">\n",
              "      <th></th>\n",
              "      <th>v1</th>\n",
              "      <th>v2</th>\n",
              "    </tr>\n",
              "  </thead>\n",
              "  <tbody>\n",
              "    <tr>\n",
              "      <th>0</th>\n",
              "      <td>ham</td>\n",
              "      <td>Go until jurong point, crazy.. Available only ...</td>\n",
              "    </tr>\n",
              "    <tr>\n",
              "      <th>1</th>\n",
              "      <td>ham</td>\n",
              "      <td>Ok lar... Joking wif u oni...</td>\n",
              "    </tr>\n",
              "    <tr>\n",
              "      <th>2</th>\n",
              "      <td>spam</td>\n",
              "      <td>Free entry in 2 a wkly comp to win FA Cup fina...</td>\n",
              "    </tr>\n",
              "    <tr>\n",
              "      <th>3</th>\n",
              "      <td>ham</td>\n",
              "      <td>U dun say so early hor... U c already then say...</td>\n",
              "    </tr>\n",
              "    <tr>\n",
              "      <th>4</th>\n",
              "      <td>ham</td>\n",
              "      <td>Nah I don't think he goes to usf, he lives aro...</td>\n",
              "    </tr>\n",
              "  </tbody>\n",
              "</table>\n",
              "</div>"
            ],
            "text/plain": [
              "     v1                                                 v2\n",
              "0   ham  Go until jurong point, crazy.. Available only ...\n",
              "1   ham                      Ok lar... Joking wif u oni...\n",
              "2  spam  Free entry in 2 a wkly comp to win FA Cup fina...\n",
              "3   ham  U dun say so early hor... U c already then say...\n",
              "4   ham  Nah I don't think he goes to usf, he lives aro..."
            ]
          },
          "execution_count": 9,
          "metadata": {},
          "output_type": "execute_result"
        }
      ],
      "source": [
        "df.head()"
      ]
    },
    {
      "cell_type": "code",
      "execution_count": 10,
      "metadata": {
        "id": "QlEtfXfc5QZR"
      },
      "outputs": [],
      "source": [
        "df.rename(columns={'v1': 'label', 'v2': 'message'}, inplace=True)"
      ]
    },
    {
      "cell_type": "code",
      "execution_count": 11,
      "metadata": {
        "colab": {
          "base_uri": "https://localhost:8080/",
          "height": 206
        },
        "id": "Uy9BWbe_5Vog",
        "outputId": "8eaf128e-e7d5-43ef-a0ef-e8c36420ce38"
      },
      "outputs": [
        {
          "data": {
            "application/vnd.microsoft.datawrangler.viewer.v0+json": {
              "columns": [
                {
                  "name": "index",
                  "rawType": "int64",
                  "type": "integer"
                },
                {
                  "name": "label",
                  "rawType": "object",
                  "type": "string"
                },
                {
                  "name": "message",
                  "rawType": "object",
                  "type": "string"
                }
              ],
              "ref": "cbb38e43-5c3c-4a50-9288-dbea141d529f",
              "rows": [
                [
                  "0",
                  "ham",
                  "Go until jurong point, crazy.. Available only in bugis n great world la e buffet... Cine there got amore wat..."
                ],
                [
                  "1",
                  "ham",
                  "Ok lar... Joking wif u oni..."
                ],
                [
                  "2",
                  "spam",
                  "Free entry in 2 a wkly comp to win FA Cup final tkts 21st May 2005. Text FA to 87121 to receive entry question(std txt rate)T&C's apply 08452810075over18's"
                ],
                [
                  "3",
                  "ham",
                  "U dun say so early hor... U c already then say..."
                ],
                [
                  "4",
                  "ham",
                  "Nah I don't think he goes to usf, he lives around here though"
                ]
              ],
              "shape": {
                "columns": 2,
                "rows": 5
              }
            },
            "text/html": [
              "<div>\n",
              "<style scoped>\n",
              "    .dataframe tbody tr th:only-of-type {\n",
              "        vertical-align: middle;\n",
              "    }\n",
              "\n",
              "    .dataframe tbody tr th {\n",
              "        vertical-align: top;\n",
              "    }\n",
              "\n",
              "    .dataframe thead th {\n",
              "        text-align: right;\n",
              "    }\n",
              "</style>\n",
              "<table border=\"1\" class=\"dataframe\">\n",
              "  <thead>\n",
              "    <tr style=\"text-align: right;\">\n",
              "      <th></th>\n",
              "      <th>label</th>\n",
              "      <th>message</th>\n",
              "    </tr>\n",
              "  </thead>\n",
              "  <tbody>\n",
              "    <tr>\n",
              "      <th>0</th>\n",
              "      <td>ham</td>\n",
              "      <td>Go until jurong point, crazy.. Available only ...</td>\n",
              "    </tr>\n",
              "    <tr>\n",
              "      <th>1</th>\n",
              "      <td>ham</td>\n",
              "      <td>Ok lar... Joking wif u oni...</td>\n",
              "    </tr>\n",
              "    <tr>\n",
              "      <th>2</th>\n",
              "      <td>spam</td>\n",
              "      <td>Free entry in 2 a wkly comp to win FA Cup fina...</td>\n",
              "    </tr>\n",
              "    <tr>\n",
              "      <th>3</th>\n",
              "      <td>ham</td>\n",
              "      <td>U dun say so early hor... U c already then say...</td>\n",
              "    </tr>\n",
              "    <tr>\n",
              "      <th>4</th>\n",
              "      <td>ham</td>\n",
              "      <td>Nah I don't think he goes to usf, he lives aro...</td>\n",
              "    </tr>\n",
              "  </tbody>\n",
              "</table>\n",
              "</div>"
            ],
            "text/plain": [
              "  label                                            message\n",
              "0   ham  Go until jurong point, crazy.. Available only ...\n",
              "1   ham                      Ok lar... Joking wif u oni...\n",
              "2  spam  Free entry in 2 a wkly comp to win FA Cup fina...\n",
              "3   ham  U dun say so early hor... U c already then say...\n",
              "4   ham  Nah I don't think he goes to usf, he lives aro..."
            ]
          },
          "execution_count": 11,
          "metadata": {},
          "output_type": "execute_result"
        }
      ],
      "source": [
        "df.head()"
      ]
    },
    {
      "cell_type": "markdown",
      "metadata": {
        "id": "EcB8C-605aiI"
      },
      "source": [
        "## Now let's check missing values"
      ]
    },
    {
      "cell_type": "code",
      "execution_count": 12,
      "metadata": {
        "colab": {
          "base_uri": "https://localhost:8080/"
        },
        "id": "19_n7a9Y54zN",
        "outputId": "ea1ce95b-f114-4b0b-b123-817c02d5e5a3"
      },
      "outputs": [
        {
          "name": "stdout",
          "output_type": "stream",
          "text": [
            "label      0\n",
            "message    0\n",
            "dtype: int64\n"
          ]
        }
      ],
      "source": [
        "print(df.isnull().sum())"
      ]
    },
    {
      "cell_type": "markdown",
      "metadata": {
        "id": "SGnF4LVa6ACr"
      },
      "source": [
        "## Now let's convert values of the column label to numeric\n",
        "\n",
        "*   **ham: 0**\n",
        "*   **spam: 1**\n",
        "\n"
      ]
    },
    {
      "cell_type": "code",
      "execution_count": 13,
      "metadata": {
        "id": "PUiIjWC26PBa"
      },
      "outputs": [],
      "source": [
        "df[\"label\"] = df[\"label\"].map({\"ham\": 0, \"spam\": 1})"
      ]
    },
    {
      "cell_type": "code",
      "execution_count": 14,
      "metadata": {
        "colab": {
          "base_uri": "https://localhost:8080/",
          "height": 206
        },
        "id": "gIbLN3pk6kQM",
        "outputId": "aad426f0-e9f0-4136-abd1-6f113b877266"
      },
      "outputs": [
        {
          "data": {
            "application/vnd.microsoft.datawrangler.viewer.v0+json": {
              "columns": [
                {
                  "name": "index",
                  "rawType": "int64",
                  "type": "integer"
                },
                {
                  "name": "label",
                  "rawType": "int64",
                  "type": "integer"
                },
                {
                  "name": "message",
                  "rawType": "object",
                  "type": "string"
                }
              ],
              "ref": "016afa91-2654-4f49-9747-b9d7e773d934",
              "rows": [
                [
                  "0",
                  "0",
                  "Go until jurong point, crazy.. Available only in bugis n great world la e buffet... Cine there got amore wat..."
                ],
                [
                  "1",
                  "0",
                  "Ok lar... Joking wif u oni..."
                ],
                [
                  "2",
                  "1",
                  "Free entry in 2 a wkly comp to win FA Cup final tkts 21st May 2005. Text FA to 87121 to receive entry question(std txt rate)T&C's apply 08452810075over18's"
                ],
                [
                  "3",
                  "0",
                  "U dun say so early hor... U c already then say..."
                ],
                [
                  "4",
                  "0",
                  "Nah I don't think he goes to usf, he lives around here though"
                ]
              ],
              "shape": {
                "columns": 2,
                "rows": 5
              }
            },
            "text/html": [
              "<div>\n",
              "<style scoped>\n",
              "    .dataframe tbody tr th:only-of-type {\n",
              "        vertical-align: middle;\n",
              "    }\n",
              "\n",
              "    .dataframe tbody tr th {\n",
              "        vertical-align: top;\n",
              "    }\n",
              "\n",
              "    .dataframe thead th {\n",
              "        text-align: right;\n",
              "    }\n",
              "</style>\n",
              "<table border=\"1\" class=\"dataframe\">\n",
              "  <thead>\n",
              "    <tr style=\"text-align: right;\">\n",
              "      <th></th>\n",
              "      <th>label</th>\n",
              "      <th>message</th>\n",
              "    </tr>\n",
              "  </thead>\n",
              "  <tbody>\n",
              "    <tr>\n",
              "      <th>0</th>\n",
              "      <td>0</td>\n",
              "      <td>Go until jurong point, crazy.. Available only ...</td>\n",
              "    </tr>\n",
              "    <tr>\n",
              "      <th>1</th>\n",
              "      <td>0</td>\n",
              "      <td>Ok lar... Joking wif u oni...</td>\n",
              "    </tr>\n",
              "    <tr>\n",
              "      <th>2</th>\n",
              "      <td>1</td>\n",
              "      <td>Free entry in 2 a wkly comp to win FA Cup fina...</td>\n",
              "    </tr>\n",
              "    <tr>\n",
              "      <th>3</th>\n",
              "      <td>0</td>\n",
              "      <td>U dun say so early hor... U c already then say...</td>\n",
              "    </tr>\n",
              "    <tr>\n",
              "      <th>4</th>\n",
              "      <td>0</td>\n",
              "      <td>Nah I don't think he goes to usf, he lives aro...</td>\n",
              "    </tr>\n",
              "  </tbody>\n",
              "</table>\n",
              "</div>"
            ],
            "text/plain": [
              "   label                                            message\n",
              "0      0  Go until jurong point, crazy.. Available only ...\n",
              "1      0                      Ok lar... Joking wif u oni...\n",
              "2      1  Free entry in 2 a wkly comp to win FA Cup fina...\n",
              "3      0  U dun say so early hor... U c already then say...\n",
              "4      0  Nah I don't think he goes to usf, he lives aro..."
            ]
          },
          "execution_count": 14,
          "metadata": {},
          "output_type": "execute_result"
        }
      ],
      "source": [
        "df.head()"
      ]
    },
    {
      "cell_type": "markdown",
      "metadata": {
        "id": "rS5f-1csQb6d"
      },
      "source": [
        "## Now we have to remove punctuation, lower case all characters.\n"
      ]
    },
    {
      "cell_type": "code",
      "execution_count": 15,
      "metadata": {
        "id": "_lQbrBgLQuZb"
      },
      "outputs": [],
      "source": [
        "import string"
      ]
    },
    {
      "cell_type": "code",
      "execution_count": 16,
      "metadata": {
        "colab": {
          "base_uri": "https://localhost:8080/",
          "height": 35
        },
        "id": "RiAYOVe6Q1ZN",
        "outputId": "eb2092d9-fc62-44da-be41-a62c8ced21e6"
      },
      "outputs": [
        {
          "data": {
            "text/plain": [
              "'!\"#$%&\\'()*+,-./:;<=>?@[\\\\]^_`{|}~'"
            ]
          },
          "execution_count": 16,
          "metadata": {},
          "output_type": "execute_result"
        }
      ],
      "source": [
        "string.punctuation"
      ]
    },
    {
      "cell_type": "code",
      "execution_count": 17,
      "metadata": {
        "id": "-YHLCUZVXlMQ"
      },
      "outputs": [],
      "source": [
        "# Lower case\n",
        "df['lower_message'] = df['message'].fillna('').apply(lambda x: x.lower())"
      ]
    },
    {
      "cell_type": "code",
      "execution_count": 18,
      "metadata": {
        "id": "FO-0FNuWRG-v"
      },
      "outputs": [],
      "source": [
        "# Remove punctuation\n",
        "df['clean_message'] = df['lower_message'].str.replace(r\"[!\\\"#$%&()*+,-./:;<=>?@[\\\\\\]^_`{|}~]+\", \" \", regex=True)"
      ]
    },
    {
      "cell_type": "code",
      "execution_count": 19,
      "metadata": {
        "colab": {
          "base_uri": "https://localhost:8080/",
          "height": 206
        },
        "id": "DppEXBqSSzUC",
        "outputId": "efee3baa-af8d-42fa-effa-3cef11eb620a"
      },
      "outputs": [
        {
          "data": {
            "application/vnd.microsoft.datawrangler.viewer.v0+json": {
              "columns": [
                {
                  "name": "index",
                  "rawType": "int64",
                  "type": "integer"
                },
                {
                  "name": "label",
                  "rawType": "int64",
                  "type": "integer"
                },
                {
                  "name": "message",
                  "rawType": "object",
                  "type": "string"
                },
                {
                  "name": "lower_message",
                  "rawType": "object",
                  "type": "string"
                },
                {
                  "name": "clean_message",
                  "rawType": "object",
                  "type": "string"
                }
              ],
              "ref": "bccb1d3d-0ff3-4611-bc8b-925d54a2a3c5",
              "rows": [
                [
                  "0",
                  "0",
                  "Go until jurong point, crazy.. Available only in bugis n great world la e buffet... Cine there got amore wat...",
                  "go until jurong point, crazy.. available only in bugis n great world la e buffet... cine there got amore wat...",
                  "go until jurong point  crazy  available only in bugis n great world la e buffet  cine there got amore wat "
                ],
                [
                  "1",
                  "0",
                  "Ok lar... Joking wif u oni...",
                  "ok lar... joking wif u oni...",
                  "ok lar  joking wif u oni "
                ],
                [
                  "2",
                  "1",
                  "Free entry in 2 a wkly comp to win FA Cup final tkts 21st May 2005. Text FA to 87121 to receive entry question(std txt rate)T&C's apply 08452810075over18's",
                  "free entry in 2 a wkly comp to win fa cup final tkts 21st may 2005. text fa to 87121 to receive entry question(std txt rate)t&c's apply 08452810075over18's",
                  "free entry in 2 a wkly comp to win fa cup final tkts 21st may 2005  text fa to 87121 to receive entry question std txt rate t c's apply 08452810075over18's"
                ],
                [
                  "3",
                  "0",
                  "U dun say so early hor... U c already then say...",
                  "u dun say so early hor... u c already then say...",
                  "u dun say so early hor  u c already then say "
                ],
                [
                  "4",
                  "0",
                  "Nah I don't think he goes to usf, he lives around here though",
                  "nah i don't think he goes to usf, he lives around here though",
                  "nah i don't think he goes to usf  he lives around here though"
                ]
              ],
              "shape": {
                "columns": 4,
                "rows": 5
              }
            },
            "text/html": [
              "<div>\n",
              "<style scoped>\n",
              "    .dataframe tbody tr th:only-of-type {\n",
              "        vertical-align: middle;\n",
              "    }\n",
              "\n",
              "    .dataframe tbody tr th {\n",
              "        vertical-align: top;\n",
              "    }\n",
              "\n",
              "    .dataframe thead th {\n",
              "        text-align: right;\n",
              "    }\n",
              "</style>\n",
              "<table border=\"1\" class=\"dataframe\">\n",
              "  <thead>\n",
              "    <tr style=\"text-align: right;\">\n",
              "      <th></th>\n",
              "      <th>label</th>\n",
              "      <th>message</th>\n",
              "      <th>lower_message</th>\n",
              "      <th>clean_message</th>\n",
              "    </tr>\n",
              "  </thead>\n",
              "  <tbody>\n",
              "    <tr>\n",
              "      <th>0</th>\n",
              "      <td>0</td>\n",
              "      <td>Go until jurong point, crazy.. Available only ...</td>\n",
              "      <td>go until jurong point, crazy.. available only ...</td>\n",
              "      <td>go until jurong point  crazy  available only i...</td>\n",
              "    </tr>\n",
              "    <tr>\n",
              "      <th>1</th>\n",
              "      <td>0</td>\n",
              "      <td>Ok lar... Joking wif u oni...</td>\n",
              "      <td>ok lar... joking wif u oni...</td>\n",
              "      <td>ok lar  joking wif u oni</td>\n",
              "    </tr>\n",
              "    <tr>\n",
              "      <th>2</th>\n",
              "      <td>1</td>\n",
              "      <td>Free entry in 2 a wkly comp to win FA Cup fina...</td>\n",
              "      <td>free entry in 2 a wkly comp to win fa cup fina...</td>\n",
              "      <td>free entry in 2 a wkly comp to win fa cup fina...</td>\n",
              "    </tr>\n",
              "    <tr>\n",
              "      <th>3</th>\n",
              "      <td>0</td>\n",
              "      <td>U dun say so early hor... U c already then say...</td>\n",
              "      <td>u dun say so early hor... u c already then say...</td>\n",
              "      <td>u dun say so early hor  u c already then say</td>\n",
              "    </tr>\n",
              "    <tr>\n",
              "      <th>4</th>\n",
              "      <td>0</td>\n",
              "      <td>Nah I don't think he goes to usf, he lives aro...</td>\n",
              "      <td>nah i don't think he goes to usf, he lives aro...</td>\n",
              "      <td>nah i don't think he goes to usf  he lives aro...</td>\n",
              "    </tr>\n",
              "  </tbody>\n",
              "</table>\n",
              "</div>"
            ],
            "text/plain": [
              "   label                                            message  \\\n",
              "0      0  Go until jurong point, crazy.. Available only ...   \n",
              "1      0                      Ok lar... Joking wif u oni...   \n",
              "2      1  Free entry in 2 a wkly comp to win FA Cup fina...   \n",
              "3      0  U dun say so early hor... U c already then say...   \n",
              "4      0  Nah I don't think he goes to usf, he lives aro...   \n",
              "\n",
              "                                       lower_message  \\\n",
              "0  go until jurong point, crazy.. available only ...   \n",
              "1                      ok lar... joking wif u oni...   \n",
              "2  free entry in 2 a wkly comp to win fa cup fina...   \n",
              "3  u dun say so early hor... u c already then say...   \n",
              "4  nah i don't think he goes to usf, he lives aro...   \n",
              "\n",
              "                                       clean_message  \n",
              "0  go until jurong point  crazy  available only i...  \n",
              "1                          ok lar  joking wif u oni   \n",
              "2  free entry in 2 a wkly comp to win fa cup fina...  \n",
              "3      u dun say so early hor  u c already then say   \n",
              "4  nah i don't think he goes to usf  he lives aro...  "
            ]
          },
          "execution_count": 19,
          "metadata": {},
          "output_type": "execute_result"
        }
      ],
      "source": [
        "df.head()"
      ]
    },
    {
      "cell_type": "markdown",
      "metadata": {
        "id": "uHICW8Tl63Bv"
      },
      "source": [
        "## Let's check if data in columns **label** is balance or not"
      ]
    },
    {
      "cell_type": "code",
      "execution_count": 20,
      "metadata": {
        "colab": {
          "base_uri": "https://localhost:8080/",
          "height": 178
        },
        "id": "lZdOcMCE7M2P",
        "outputId": "987b6a22-7b3c-4bfb-8659-c92f59f6b0e3"
      },
      "outputs": [
        {
          "data": {
            "application/vnd.microsoft.datawrangler.viewer.v0+json": {
              "columns": [
                {
                  "name": "label",
                  "rawType": "int64",
                  "type": "integer"
                },
                {
                  "name": "count",
                  "rawType": "int64",
                  "type": "integer"
                }
              ],
              "ref": "eed0b5a6-4434-4820-b3f5-2c2c578ce7e6",
              "rows": [
                [
                  "0",
                  "4825"
                ],
                [
                  "1",
                  "747"
                ]
              ],
              "shape": {
                "columns": 1,
                "rows": 2
              }
            },
            "text/plain": [
              "label\n",
              "0    4825\n",
              "1     747\n",
              "Name: count, dtype: int64"
            ]
          },
          "execution_count": 20,
          "metadata": {},
          "output_type": "execute_result"
        }
      ],
      "source": [
        "df[\"label\"].value_counts()"
      ]
    },
    {
      "cell_type": "markdown",
      "metadata": {
        "id": "prPKvSAi7Rar"
      },
      "source": [
        "\n",
        "\n",
        "*   We can see that we have an unbalances column as expected. It's normal to have more **ham** than **spam** messages\n",
        "*   We will have to use techniques to balance the dataset\n",
        "\n"
      ]
    },
    {
      "cell_type": "markdown",
      "metadata": {
        "id": "gQyTjjYr7uyv"
      },
      "source": [
        "# 2. Preprocessing"
      ]
    },
    {
      "cell_type": "markdown",
      "metadata": {
        "id": "GFBVFLTk8dtn"
      },
      "source": [
        "We will use the weights technique to counterbalance the unbalanced data set to avoid adding artificial data and avoid deleting data. For this we will use **compute_class_weight** provided by **sklearn**"
      ]
    },
    {
      "cell_type": "code",
      "execution_count": 21,
      "metadata": {
        "colab": {
          "base_uri": "https://localhost:8080/"
        },
        "id": "70T0VW1m9898",
        "outputId": "a475d8c3-4089-4cdd-fff1-d9784fb71508"
      },
      "outputs": [
        {
          "name": "stdout",
          "output_type": "stream",
          "text": [
            "class weights: {0: 0.5774093264248704, 1: 3.7295850066934406}\n"
          ]
        }
      ],
      "source": [
        "from sklearn.utils.class_weight import compute_class_weight\n",
        "\n",
        "classes = np.array([0, 1]) # ham = 0, 1 = spam\n",
        "weights = compute_class_weight(class_weight='balanced', classes=classes, y=df['label'])\n",
        "class_weights = dict(zip(classes, weights))\n",
        "print(\"class weights:\", class_weights)"
      ]
    },
    {
      "cell_type": "markdown",
      "metadata": {
        "id": "QIn-29fiAFpP"
      },
      "source": [
        "We have to transform text into number before we can use it for the model. For this we will use **TfidfVectorizer** provided by **sklearn** for **Natural Language Processing**(NLP). TfidfVectorizer is a feature extraction technique for converting a collection of raw text documents into a **matrix** of **TF-IDF** (Term Frequency-Inverse Document Frequency) features."
      ]
    },
    {
      "cell_type": "code",
      "execution_count": 22,
      "metadata": {
        "colab": {
          "base_uri": "https://localhost:8080/"
        },
        "id": "40qLDH7VCBdM",
        "outputId": "ddba1535-f028-4ead-8450-9641a3e46fe5"
      },
      "outputs": [
        {
          "name": "stdout",
          "output_type": "stream",
          "text": [
            "X_train shape: (4457, 5000)\n",
            "X_test shape: (1115, 5000)\n"
          ]
        }
      ],
      "source": [
        "from sklearn.feature_extraction.text import TfidfVectorizer\n",
        "from sklearn.model_selection import train_test_split\n",
        "\n",
        "vectorizer = TfidfVectorizer(stop_words=\"english\", max_features=5000)\n",
        "X = vectorizer.fit_transform(df['clean_message'])\n",
        "y = df['label']\n",
        "X_train, X_test, y_train, y_test = train_test_split(X, y, test_size=0.2, random_state=42)\n",
        "print(\"X_train shape:\", X_train.shape)\n",
        "print(\"X_test shape:\", X_test.shape)"
      ]
    },
    {
      "cell_type": "markdown",
      "metadata": {
        "id": "3wk7Q9Lg8RJH"
      },
      "source": [
        "# 3. Deep Learning Model"
      ]
    },
    {
      "cell_type": "code",
      "execution_count": 23,
      "metadata": {
        "colab": {
          "base_uri": "https://localhost:8080/"
        },
        "id": "1fZzFWljCxNq",
        "outputId": "d19854de-7a08-4aa4-85b6-0ef680199419"
      },
      "outputs": [],
      "source": [
        "from tensorflow import keras\n",
        "from tensorflow.keras import layers\n",
        "\n",
        "model = keras.Sequential([\n",
        "    keras.Input(shape=(X_train.shape[1],)),\n",
        "    layers.Dense(128, activation=\"relu\"),\n",
        "    layers.Dropout(0.3),\n",
        "    layers.Dense(64, activation=\"relu\"),\n",
        "    layers.Dropout(0.3),\n",
        "    layers.Dense(1, activation=\"sigmoid\")\n",
        "])"
      ]
    },
    {
      "cell_type": "code",
      "execution_count": 24,
      "metadata": {
        "id": "LSTmNC18D5c1"
      },
      "outputs": [],
      "source": [
        "model.compile(optimizer=\"adam\", loss=\"binary_crossentropy\", metrics=[\"accuracy\"])"
      ]
    },
    {
      "cell_type": "code",
      "execution_count": 25,
      "metadata": {
        "colab": {
          "base_uri": "https://localhost:8080/",
          "height": 306
        },
        "id": "MUNNAm5cD_wr",
        "outputId": "b7a85847-9d3a-480a-c3ca-3ced0e2f51a9"
      },
      "outputs": [
        {
          "data": {
            "text/html": [
              "<pre style=\"white-space:pre;overflow-x:auto;line-height:normal;font-family:Menlo,'DejaVu Sans Mono',consolas,'Courier New',monospace\"><span style=\"font-weight: bold\">Model: \"sequential\"</span>\n",
              "</pre>\n"
            ],
            "text/plain": [
              "\u001b[1mModel: \"sequential\"\u001b[0m\n"
            ]
          },
          "metadata": {},
          "output_type": "display_data"
        },
        {
          "data": {
            "text/html": [
              "<pre style=\"white-space:pre;overflow-x:auto;line-height:normal;font-family:Menlo,'DejaVu Sans Mono',consolas,'Courier New',monospace\">┏━━━━━━━━━━━━━━━━━━━━━━━━━━━━━━━━━┳━━━━━━━━━━━━━━━━━━━━━━━━┳━━━━━━━━━━━━━━━┓\n",
              "┃<span style=\"font-weight: bold\"> Layer (type)                    </span>┃<span style=\"font-weight: bold\"> Output Shape           </span>┃<span style=\"font-weight: bold\">       Param # </span>┃\n",
              "┡━━━━━━━━━━━━━━━━━━━━━━━━━━━━━━━━━╇━━━━━━━━━━━━━━━━━━━━━━━━╇━━━━━━━━━━━━━━━┩\n",
              "│ dense (<span style=\"color: #0087ff; text-decoration-color: #0087ff\">Dense</span>)                   │ (<span style=\"color: #00d7ff; text-decoration-color: #00d7ff\">None</span>, <span style=\"color: #00af00; text-decoration-color: #00af00\">128</span>)            │       <span style=\"color: #00af00; text-decoration-color: #00af00\">640,128</span> │\n",
              "├─────────────────────────────────┼────────────────────────┼───────────────┤\n",
              "│ dropout (<span style=\"color: #0087ff; text-decoration-color: #0087ff\">Dropout</span>)               │ (<span style=\"color: #00d7ff; text-decoration-color: #00d7ff\">None</span>, <span style=\"color: #00af00; text-decoration-color: #00af00\">128</span>)            │             <span style=\"color: #00af00; text-decoration-color: #00af00\">0</span> │\n",
              "├─────────────────────────────────┼────────────────────────┼───────────────┤\n",
              "│ dense_1 (<span style=\"color: #0087ff; text-decoration-color: #0087ff\">Dense</span>)                 │ (<span style=\"color: #00d7ff; text-decoration-color: #00d7ff\">None</span>, <span style=\"color: #00af00; text-decoration-color: #00af00\">64</span>)             │         <span style=\"color: #00af00; text-decoration-color: #00af00\">8,256</span> │\n",
              "├─────────────────────────────────┼────────────────────────┼───────────────┤\n",
              "│ dropout_1 (<span style=\"color: #0087ff; text-decoration-color: #0087ff\">Dropout</span>)             │ (<span style=\"color: #00d7ff; text-decoration-color: #00d7ff\">None</span>, <span style=\"color: #00af00; text-decoration-color: #00af00\">64</span>)             │             <span style=\"color: #00af00; text-decoration-color: #00af00\">0</span> │\n",
              "├─────────────────────────────────┼────────────────────────┼───────────────┤\n",
              "│ dense_2 (<span style=\"color: #0087ff; text-decoration-color: #0087ff\">Dense</span>)                 │ (<span style=\"color: #00d7ff; text-decoration-color: #00d7ff\">None</span>, <span style=\"color: #00af00; text-decoration-color: #00af00\">1</span>)              │            <span style=\"color: #00af00; text-decoration-color: #00af00\">65</span> │\n",
              "└─────────────────────────────────┴────────────────────────┴───────────────┘\n",
              "</pre>\n"
            ],
            "text/plain": [
              "┏━━━━━━━━━━━━━━━━━━━━━━━━━━━━━━━━━┳━━━━━━━━━━━━━━━━━━━━━━━━┳━━━━━━━━━━━━━━━┓\n",
              "┃\u001b[1m \u001b[0m\u001b[1mLayer (type)                   \u001b[0m\u001b[1m \u001b[0m┃\u001b[1m \u001b[0m\u001b[1mOutput Shape          \u001b[0m\u001b[1m \u001b[0m┃\u001b[1m \u001b[0m\u001b[1m      Param #\u001b[0m\u001b[1m \u001b[0m┃\n",
              "┡━━━━━━━━━━━━━━━━━━━━━━━━━━━━━━━━━╇━━━━━━━━━━━━━━━━━━━━━━━━╇━━━━━━━━━━━━━━━┩\n",
              "│ dense (\u001b[38;5;33mDense\u001b[0m)                   │ (\u001b[38;5;45mNone\u001b[0m, \u001b[38;5;34m128\u001b[0m)            │       \u001b[38;5;34m640,128\u001b[0m │\n",
              "├─────────────────────────────────┼────────────────────────┼───────────────┤\n",
              "│ dropout (\u001b[38;5;33mDropout\u001b[0m)               │ (\u001b[38;5;45mNone\u001b[0m, \u001b[38;5;34m128\u001b[0m)            │             \u001b[38;5;34m0\u001b[0m │\n",
              "├─────────────────────────────────┼────────────────────────┼───────────────┤\n",
              "│ dense_1 (\u001b[38;5;33mDense\u001b[0m)                 │ (\u001b[38;5;45mNone\u001b[0m, \u001b[38;5;34m64\u001b[0m)             │         \u001b[38;5;34m8,256\u001b[0m │\n",
              "├─────────────────────────────────┼────────────────────────┼───────────────┤\n",
              "│ dropout_1 (\u001b[38;5;33mDropout\u001b[0m)             │ (\u001b[38;5;45mNone\u001b[0m, \u001b[38;5;34m64\u001b[0m)             │             \u001b[38;5;34m0\u001b[0m │\n",
              "├─────────────────────────────────┼────────────────────────┼───────────────┤\n",
              "│ dense_2 (\u001b[38;5;33mDense\u001b[0m)                 │ (\u001b[38;5;45mNone\u001b[0m, \u001b[38;5;34m1\u001b[0m)              │            \u001b[38;5;34m65\u001b[0m │\n",
              "└─────────────────────────────────┴────────────────────────┴───────────────┘\n"
            ]
          },
          "metadata": {},
          "output_type": "display_data"
        },
        {
          "data": {
            "text/html": [
              "<pre style=\"white-space:pre;overflow-x:auto;line-height:normal;font-family:Menlo,'DejaVu Sans Mono',consolas,'Courier New',monospace\"><span style=\"font-weight: bold\"> Total params: </span><span style=\"color: #00af00; text-decoration-color: #00af00\">648,449</span> (2.47 MB)\n",
              "</pre>\n"
            ],
            "text/plain": [
              "\u001b[1m Total params: \u001b[0m\u001b[38;5;34m648,449\u001b[0m (2.47 MB)\n"
            ]
          },
          "metadata": {},
          "output_type": "display_data"
        },
        {
          "data": {
            "text/html": [
              "<pre style=\"white-space:pre;overflow-x:auto;line-height:normal;font-family:Menlo,'DejaVu Sans Mono',consolas,'Courier New',monospace\"><span style=\"font-weight: bold\"> Trainable params: </span><span style=\"color: #00af00; text-decoration-color: #00af00\">648,449</span> (2.47 MB)\n",
              "</pre>\n"
            ],
            "text/plain": [
              "\u001b[1m Trainable params: \u001b[0m\u001b[38;5;34m648,449\u001b[0m (2.47 MB)\n"
            ]
          },
          "metadata": {},
          "output_type": "display_data"
        },
        {
          "data": {
            "text/html": [
              "<pre style=\"white-space:pre;overflow-x:auto;line-height:normal;font-family:Menlo,'DejaVu Sans Mono',consolas,'Courier New',monospace\"><span style=\"font-weight: bold\"> Non-trainable params: </span><span style=\"color: #00af00; text-decoration-color: #00af00\">0</span> (0.00 B)\n",
              "</pre>\n"
            ],
            "text/plain": [
              "\u001b[1m Non-trainable params: \u001b[0m\u001b[38;5;34m0\u001b[0m (0.00 B)\n"
            ]
          },
          "metadata": {},
          "output_type": "display_data"
        }
      ],
      "source": [
        "model.summary()"
      ]
    },
    {
      "cell_type": "code",
      "execution_count": 26,
      "metadata": {
        "id": "XauzignCEGnN"
      },
      "outputs": [],
      "source": [
        "y_train = y_train.astype('int')\n",
        "y_test = y_test.astype('int')"
      ]
    },
    {
      "cell_type": "code",
      "execution_count": 27,
      "metadata": {
        "colab": {
          "base_uri": "https://localhost:8080/",
          "height": 204
        },
        "id": "OV9salosElB3",
        "outputId": "2575bff3-d5bc-402d-a1b4-a4956672a2fa"
      },
      "outputs": [
        {
          "data": {
            "text/plain": [
              "pandas.core.series.Series"
            ]
          },
          "execution_count": 27,
          "metadata": {},
          "output_type": "execute_result"
        }
      ],
      "source": [
        "type(y_train)"
      ]
    },
    {
      "cell_type": "code",
      "execution_count": 28,
      "metadata": {
        "id": "dWlaNcM3Eppd"
      },
      "outputs": [],
      "source": [
        "y_train = y_train.to_numpy()\n",
        "y_test = y_test.to_numpy()"
      ]
    },
    {
      "cell_type": "code",
      "execution_count": 29,
      "metadata": {
        "colab": {
          "base_uri": "https://localhost:8080/"
        },
        "id": "4zNpLJwYEuAp",
        "outputId": "a804d9f9-06ef-4ca3-a41e-390394f3a228"
      },
      "outputs": [
        {
          "data": {
            "text/plain": [
              "numpy.ndarray"
            ]
          },
          "execution_count": 29,
          "metadata": {},
          "output_type": "execute_result"
        }
      ],
      "source": [
        "type(y_train)"
      ]
    },
    {
      "cell_type": "code",
      "execution_count": 30,
      "metadata": {
        "colab": {
          "base_uri": "https://localhost:8080/"
        },
        "id": "k6-aXZHsE6Ej",
        "outputId": "788784e1-9cae-4646-b6da-28621500890a"
      },
      "outputs": [
        {
          "name": "stdout",
          "output_type": "stream",
          "text": [
            "Epoch 1/10\n",
            "\u001b[1m140/140\u001b[0m \u001b[32m━━━━━━━━━━━━━━━━━━━━\u001b[0m\u001b[37m\u001b[0m \u001b[1m3s\u001b[0m 6ms/step - accuracy: 0.7487 - loss: 0.6000 - val_accuracy: 0.9776 - val_loss: 0.1012\n",
            "Epoch 2/10\n",
            "\u001b[1m140/140\u001b[0m \u001b[32m━━━━━━━━━━━━━━━━━━━━\u001b[0m\u001b[37m\u001b[0m \u001b[1m1s\u001b[0m 4ms/step - accuracy: 0.9839 - loss: 0.0716 - val_accuracy: 0.9767 - val_loss: 0.0887\n",
            "Epoch 3/10\n",
            "\u001b[1m140/140\u001b[0m \u001b[32m━━━━━━━━━━━━━━━━━━━━\u001b[0m\u001b[37m\u001b[0m \u001b[1m1s\u001b[0m 5ms/step - accuracy: 0.9962 - loss: 0.0190 - val_accuracy: 0.9803 - val_loss: 0.0755\n",
            "Epoch 4/10\n",
            "\u001b[1m140/140\u001b[0m \u001b[32m━━━━━━━━━━━━━━━━━━━━\u001b[0m\u001b[37m\u001b[0m \u001b[1m1s\u001b[0m 5ms/step - accuracy: 0.9986 - loss: 0.0120 - val_accuracy: 0.9803 - val_loss: 0.0785\n",
            "Epoch 5/10\n",
            "\u001b[1m140/140\u001b[0m \u001b[32m━━━━━━━━━━━━━━━━━━━━\u001b[0m\u001b[37m\u001b[0m \u001b[1m1s\u001b[0m 4ms/step - accuracy: 0.9972 - loss: 0.0119 - val_accuracy: 0.9812 - val_loss: 0.0773\n",
            "Epoch 6/10\n",
            "\u001b[1m140/140\u001b[0m \u001b[32m━━━━━━━━━━━━━━━━━━━━\u001b[0m\u001b[37m\u001b[0m \u001b[1m1s\u001b[0m 5ms/step - accuracy: 0.9988 - loss: 0.0045 - val_accuracy: 0.9794 - val_loss: 0.0805\n",
            "Epoch 7/10\n",
            "\u001b[1m140/140\u001b[0m \u001b[32m━━━━━━━━━━━━━━━━━━━━\u001b[0m\u001b[37m\u001b[0m \u001b[1m1s\u001b[0m 5ms/step - accuracy: 0.9988 - loss: 0.0042 - val_accuracy: 0.9812 - val_loss: 0.0855\n",
            "Epoch 8/10\n",
            "\u001b[1m140/140\u001b[0m \u001b[32m━━━━━━━━━━━━━━━━━━━━\u001b[0m\u001b[37m\u001b[0m \u001b[1m1s\u001b[0m 5ms/step - accuracy: 0.9989 - loss: 0.0036 - val_accuracy: 0.9830 - val_loss: 0.0854\n",
            "Epoch 9/10\n",
            "\u001b[1m140/140\u001b[0m \u001b[32m━━━━━━━━━━━━━━━━━━━━\u001b[0m\u001b[37m\u001b[0m \u001b[1m1s\u001b[0m 5ms/step - accuracy: 0.9997 - loss: 0.0012 - val_accuracy: 0.9812 - val_loss: 0.0945\n",
            "Epoch 10/10\n",
            "\u001b[1m140/140\u001b[0m \u001b[32m━━━━━━━━━━━━━━━━━━━━\u001b[0m\u001b[37m\u001b[0m \u001b[1m1s\u001b[0m 5ms/step - accuracy: 0.9999 - loss: 0.0011 - val_accuracy: 0.9785 - val_loss: 0.0990\n"
          ]
        }
      ],
      "source": [
        "# Model training\n",
        "history = model.fit(\n",
        "    X_train.toarray(), y_train,  # We convert X_train to an array because TensorFlow does not support sparse matrices\n",
        "    epochs=10,\n",
        "    batch_size=32,\n",
        "    validation_data=(X_test.toarray(), y_test),\n",
        "    class_weight=class_weights  # use of class_weights calculate before\n",
        ")"
      ]
    },
    {
      "cell_type": "markdown",
      "metadata": {
        "id": "LIea3tZiiVa1"
      },
      "source": [
        "Let's save the model"
      ]
    },
    {
      "cell_type": "code",
      "execution_count": 31,
      "metadata": {
        "id": "Cqaq_KcsqPWD"
      },
      "outputs": [],
      "source": [
        "model.save('/spam_baseline.keras')"
      ]
    },
    {
      "cell_type": "markdown",
      "metadata": {
        "id": "ILGQ6XH4F1D0"
      },
      "source": [
        "Now let's evaluate the model"
      ]
    },
    {
      "cell_type": "code",
      "execution_count": 32,
      "metadata": {
        "colab": {
          "base_uri": "https://localhost:8080/"
        },
        "id": "DIdp-ScqF4xC",
        "outputId": "548aaaa3-24b5-43af-fd24-9fabcf562e5d"
      },
      "outputs": [
        {
          "name": "stdout",
          "output_type": "stream",
          "text": [
            "\u001b[1m35/35\u001b[0m \u001b[32m━━━━━━━━━━━━━━━━━━━━\u001b[0m\u001b[37m\u001b[0m \u001b[1m0s\u001b[0m 3ms/step - accuracy: 0.9827 - loss: 0.0678\n",
            "Test accuracy: 0.9785 - Test Loss: 0.0990\n"
          ]
        }
      ],
      "source": [
        "loss, accuracy = model.evaluate(X_test.toarray(), y_test)\n",
        "print(f\"Test accuracy: {accuracy:.4f} - Test Loss: {loss:.4f}\")"
      ]
    },
    {
      "cell_type": "code",
      "execution_count": 33,
      "metadata": {
        "colab": {
          "base_uri": "https://localhost:8080/"
        },
        "id": "22PFQsTVGoF0",
        "outputId": "57a2b6b5-f96a-4d47-a900-59ecebd20c82"
      },
      "outputs": [
        {
          "name": "stdout",
          "output_type": "stream",
          "text": [
            "\u001b[1m35/35\u001b[0m \u001b[32m━━━━━━━━━━━━━━━━━━━━\u001b[0m\u001b[37m\u001b[0m \u001b[1m0s\u001b[0m 3ms/step\n",
            "              precision    recall  f1-score   support\n",
            "\n",
            "           0       0.98      0.99      0.99       965\n",
            "           1       0.96      0.87      0.92       150\n",
            "\n",
            "    accuracy                           0.98      1115\n",
            "   macro avg       0.97      0.93      0.95      1115\n",
            "weighted avg       0.98      0.98      0.98      1115\n",
            "\n"
          ]
        }
      ],
      "source": [
        "from sklearn.metrics import classification_report, confusion_matrix\n",
        "\n",
        "y_pred = (model.predict(X_test.toarray()) > 0.5).astype(\"int32\")\n",
        "print(classification_report(y_test, y_pred))"
      ]
    },
    {
      "cell_type": "code",
      "execution_count": 34,
      "metadata": {
        "colab": {
          "base_uri": "https://localhost:8080/"
        },
        "id": "P687UIpeHluB",
        "outputId": "1b03fa94-497b-42ce-b09a-196c0e10b1d1"
      },
      "outputs": [
        {
          "name": "stdout",
          "output_type": "stream",
          "text": [
            "\u001b[1m35/35\u001b[0m \u001b[32m━━━━━━━━━━━━━━━━━━━━\u001b[0m\u001b[37m\u001b[0m \u001b[1m0s\u001b[0m 2ms/step\n"
          ]
        }
      ],
      "source": [
        "y_pred = model.predict(X_test.toarray())\n",
        "y_pred = (y_pred > 0.5).astype(int)"
      ]
    },
    {
      "cell_type": "code",
      "execution_count": 35,
      "metadata": {
        "colab": {
          "base_uri": "https://localhost:8080/",
          "height": 542
        },
        "id": "6_-tW_ZjIpd5",
        "outputId": "24246858-272c-419a-863f-3bb7fba895c0"
      },
      "outputs": [
        {
          "data": {
            "application/vnd.plotly.v1+json": {
              "config": {
                "plotlyServerURL": "https://plot.ly"
              },
              "data": [
                {
                  "coloraxis": "coloraxis",
                  "hovertemplate": "Predict: %{x}<br>Reel: %{y}<br>Count: %{z}<extra></extra>",
                  "name": "0",
                  "texttemplate": "%{z}",
                  "type": "heatmap",
                  "x": [
                    "Ham",
                    "Spam"
                  ],
                  "xaxis": "x",
                  "y": [
                    "Ham",
                    "Spam"
                  ],
                  "yaxis": "y",
                  "z": [
                    [
                      960,
                      5
                    ],
                    [
                      19,
                      131
                    ]
                  ]
                }
              ],
              "layout": {
                "coloraxis": {
                  "colorbar": {
                    "title": {
                      "text": "Count"
                    }
                  },
                  "colorscale": [
                    [
                      0,
                      "rgb(0,0,0)"
                    ],
                    [
                      0.25,
                      "rgb(230,0,0)"
                    ],
                    [
                      0.5,
                      "rgb(230,210,0)"
                    ],
                    [
                      0.75,
                      "rgb(255,255,255)"
                    ],
                    [
                      1,
                      "rgb(160,200,255)"
                    ]
                  ]
                },
                "margin": {
                  "t": 60
                },
                "template": {
                  "data": {
                    "bar": [
                      {
                        "error_x": {
                          "color": "#2a3f5f"
                        },
                        "error_y": {
                          "color": "#2a3f5f"
                        },
                        "marker": {
                          "line": {
                            "color": "#E5ECF6",
                            "width": 0.5
                          },
                          "pattern": {
                            "fillmode": "overlay",
                            "size": 10,
                            "solidity": 0.2
                          }
                        },
                        "type": "bar"
                      }
                    ],
                    "barpolar": [
                      {
                        "marker": {
                          "line": {
                            "color": "#E5ECF6",
                            "width": 0.5
                          },
                          "pattern": {
                            "fillmode": "overlay",
                            "size": 10,
                            "solidity": 0.2
                          }
                        },
                        "type": "barpolar"
                      }
                    ],
                    "carpet": [
                      {
                        "aaxis": {
                          "endlinecolor": "#2a3f5f",
                          "gridcolor": "white",
                          "linecolor": "white",
                          "minorgridcolor": "white",
                          "startlinecolor": "#2a3f5f"
                        },
                        "baxis": {
                          "endlinecolor": "#2a3f5f",
                          "gridcolor": "white",
                          "linecolor": "white",
                          "minorgridcolor": "white",
                          "startlinecolor": "#2a3f5f"
                        },
                        "type": "carpet"
                      }
                    ],
                    "choropleth": [
                      {
                        "colorbar": {
                          "outlinewidth": 0,
                          "ticks": ""
                        },
                        "type": "choropleth"
                      }
                    ],
                    "contour": [
                      {
                        "colorbar": {
                          "outlinewidth": 0,
                          "ticks": ""
                        },
                        "colorscale": [
                          [
                            0,
                            "#0d0887"
                          ],
                          [
                            0.1111111111111111,
                            "#46039f"
                          ],
                          [
                            0.2222222222222222,
                            "#7201a8"
                          ],
                          [
                            0.3333333333333333,
                            "#9c179e"
                          ],
                          [
                            0.4444444444444444,
                            "#bd3786"
                          ],
                          [
                            0.5555555555555556,
                            "#d8576b"
                          ],
                          [
                            0.6666666666666666,
                            "#ed7953"
                          ],
                          [
                            0.7777777777777778,
                            "#fb9f3a"
                          ],
                          [
                            0.8888888888888888,
                            "#fdca26"
                          ],
                          [
                            1,
                            "#f0f921"
                          ]
                        ],
                        "type": "contour"
                      }
                    ],
                    "contourcarpet": [
                      {
                        "colorbar": {
                          "outlinewidth": 0,
                          "ticks": ""
                        },
                        "type": "contourcarpet"
                      }
                    ],
                    "heatmap": [
                      {
                        "colorbar": {
                          "outlinewidth": 0,
                          "ticks": ""
                        },
                        "colorscale": [
                          [
                            0,
                            "#0d0887"
                          ],
                          [
                            0.1111111111111111,
                            "#46039f"
                          ],
                          [
                            0.2222222222222222,
                            "#7201a8"
                          ],
                          [
                            0.3333333333333333,
                            "#9c179e"
                          ],
                          [
                            0.4444444444444444,
                            "#bd3786"
                          ],
                          [
                            0.5555555555555556,
                            "#d8576b"
                          ],
                          [
                            0.6666666666666666,
                            "#ed7953"
                          ],
                          [
                            0.7777777777777778,
                            "#fb9f3a"
                          ],
                          [
                            0.8888888888888888,
                            "#fdca26"
                          ],
                          [
                            1,
                            "#f0f921"
                          ]
                        ],
                        "type": "heatmap"
                      }
                    ],
                    "heatmapgl": [
                      {
                        "colorbar": {
                          "outlinewidth": 0,
                          "ticks": ""
                        },
                        "colorscale": [
                          [
                            0,
                            "#0d0887"
                          ],
                          [
                            0.1111111111111111,
                            "#46039f"
                          ],
                          [
                            0.2222222222222222,
                            "#7201a8"
                          ],
                          [
                            0.3333333333333333,
                            "#9c179e"
                          ],
                          [
                            0.4444444444444444,
                            "#bd3786"
                          ],
                          [
                            0.5555555555555556,
                            "#d8576b"
                          ],
                          [
                            0.6666666666666666,
                            "#ed7953"
                          ],
                          [
                            0.7777777777777778,
                            "#fb9f3a"
                          ],
                          [
                            0.8888888888888888,
                            "#fdca26"
                          ],
                          [
                            1,
                            "#f0f921"
                          ]
                        ],
                        "type": "heatmapgl"
                      }
                    ],
                    "histogram": [
                      {
                        "marker": {
                          "pattern": {
                            "fillmode": "overlay",
                            "size": 10,
                            "solidity": 0.2
                          }
                        },
                        "type": "histogram"
                      }
                    ],
                    "histogram2d": [
                      {
                        "colorbar": {
                          "outlinewidth": 0,
                          "ticks": ""
                        },
                        "colorscale": [
                          [
                            0,
                            "#0d0887"
                          ],
                          [
                            0.1111111111111111,
                            "#46039f"
                          ],
                          [
                            0.2222222222222222,
                            "#7201a8"
                          ],
                          [
                            0.3333333333333333,
                            "#9c179e"
                          ],
                          [
                            0.4444444444444444,
                            "#bd3786"
                          ],
                          [
                            0.5555555555555556,
                            "#d8576b"
                          ],
                          [
                            0.6666666666666666,
                            "#ed7953"
                          ],
                          [
                            0.7777777777777778,
                            "#fb9f3a"
                          ],
                          [
                            0.8888888888888888,
                            "#fdca26"
                          ],
                          [
                            1,
                            "#f0f921"
                          ]
                        ],
                        "type": "histogram2d"
                      }
                    ],
                    "histogram2dcontour": [
                      {
                        "colorbar": {
                          "outlinewidth": 0,
                          "ticks": ""
                        },
                        "colorscale": [
                          [
                            0,
                            "#0d0887"
                          ],
                          [
                            0.1111111111111111,
                            "#46039f"
                          ],
                          [
                            0.2222222222222222,
                            "#7201a8"
                          ],
                          [
                            0.3333333333333333,
                            "#9c179e"
                          ],
                          [
                            0.4444444444444444,
                            "#bd3786"
                          ],
                          [
                            0.5555555555555556,
                            "#d8576b"
                          ],
                          [
                            0.6666666666666666,
                            "#ed7953"
                          ],
                          [
                            0.7777777777777778,
                            "#fb9f3a"
                          ],
                          [
                            0.8888888888888888,
                            "#fdca26"
                          ],
                          [
                            1,
                            "#f0f921"
                          ]
                        ],
                        "type": "histogram2dcontour"
                      }
                    ],
                    "mesh3d": [
                      {
                        "colorbar": {
                          "outlinewidth": 0,
                          "ticks": ""
                        },
                        "type": "mesh3d"
                      }
                    ],
                    "parcoords": [
                      {
                        "line": {
                          "colorbar": {
                            "outlinewidth": 0,
                            "ticks": ""
                          }
                        },
                        "type": "parcoords"
                      }
                    ],
                    "pie": [
                      {
                        "automargin": true,
                        "type": "pie"
                      }
                    ],
                    "scatter": [
                      {
                        "fillpattern": {
                          "fillmode": "overlay",
                          "size": 10,
                          "solidity": 0.2
                        },
                        "type": "scatter"
                      }
                    ],
                    "scatter3d": [
                      {
                        "line": {
                          "colorbar": {
                            "outlinewidth": 0,
                            "ticks": ""
                          }
                        },
                        "marker": {
                          "colorbar": {
                            "outlinewidth": 0,
                            "ticks": ""
                          }
                        },
                        "type": "scatter3d"
                      }
                    ],
                    "scattercarpet": [
                      {
                        "marker": {
                          "colorbar": {
                            "outlinewidth": 0,
                            "ticks": ""
                          }
                        },
                        "type": "scattercarpet"
                      }
                    ],
                    "scattergeo": [
                      {
                        "marker": {
                          "colorbar": {
                            "outlinewidth": 0,
                            "ticks": ""
                          }
                        },
                        "type": "scattergeo"
                      }
                    ],
                    "scattergl": [
                      {
                        "marker": {
                          "colorbar": {
                            "outlinewidth": 0,
                            "ticks": ""
                          }
                        },
                        "type": "scattergl"
                      }
                    ],
                    "scattermapbox": [
                      {
                        "marker": {
                          "colorbar": {
                            "outlinewidth": 0,
                            "ticks": ""
                          }
                        },
                        "type": "scattermapbox"
                      }
                    ],
                    "scatterpolar": [
                      {
                        "marker": {
                          "colorbar": {
                            "outlinewidth": 0,
                            "ticks": ""
                          }
                        },
                        "type": "scatterpolar"
                      }
                    ],
                    "scatterpolargl": [
                      {
                        "marker": {
                          "colorbar": {
                            "outlinewidth": 0,
                            "ticks": ""
                          }
                        },
                        "type": "scatterpolargl"
                      }
                    ],
                    "scatterternary": [
                      {
                        "marker": {
                          "colorbar": {
                            "outlinewidth": 0,
                            "ticks": ""
                          }
                        },
                        "type": "scatterternary"
                      }
                    ],
                    "surface": [
                      {
                        "colorbar": {
                          "outlinewidth": 0,
                          "ticks": ""
                        },
                        "colorscale": [
                          [
                            0,
                            "#0d0887"
                          ],
                          [
                            0.1111111111111111,
                            "#46039f"
                          ],
                          [
                            0.2222222222222222,
                            "#7201a8"
                          ],
                          [
                            0.3333333333333333,
                            "#9c179e"
                          ],
                          [
                            0.4444444444444444,
                            "#bd3786"
                          ],
                          [
                            0.5555555555555556,
                            "#d8576b"
                          ],
                          [
                            0.6666666666666666,
                            "#ed7953"
                          ],
                          [
                            0.7777777777777778,
                            "#fb9f3a"
                          ],
                          [
                            0.8888888888888888,
                            "#fdca26"
                          ],
                          [
                            1,
                            "#f0f921"
                          ]
                        ],
                        "type": "surface"
                      }
                    ],
                    "table": [
                      {
                        "cells": {
                          "fill": {
                            "color": "#EBF0F8"
                          },
                          "line": {
                            "color": "white"
                          }
                        },
                        "header": {
                          "fill": {
                            "color": "#C8D4E3"
                          },
                          "line": {
                            "color": "white"
                          }
                        },
                        "type": "table"
                      }
                    ]
                  },
                  "layout": {
                    "annotationdefaults": {
                      "arrowcolor": "#2a3f5f",
                      "arrowhead": 0,
                      "arrowwidth": 1
                    },
                    "autotypenumbers": "strict",
                    "coloraxis": {
                      "colorbar": {
                        "outlinewidth": 0,
                        "ticks": ""
                      }
                    },
                    "colorscale": {
                      "diverging": [
                        [
                          0,
                          "#8e0152"
                        ],
                        [
                          0.1,
                          "#c51b7d"
                        ],
                        [
                          0.2,
                          "#de77ae"
                        ],
                        [
                          0.3,
                          "#f1b6da"
                        ],
                        [
                          0.4,
                          "#fde0ef"
                        ],
                        [
                          0.5,
                          "#f7f7f7"
                        ],
                        [
                          0.6,
                          "#e6f5d0"
                        ],
                        [
                          0.7,
                          "#b8e186"
                        ],
                        [
                          0.8,
                          "#7fbc41"
                        ],
                        [
                          0.9,
                          "#4d9221"
                        ],
                        [
                          1,
                          "#276419"
                        ]
                      ],
                      "sequential": [
                        [
                          0,
                          "#0d0887"
                        ],
                        [
                          0.1111111111111111,
                          "#46039f"
                        ],
                        [
                          0.2222222222222222,
                          "#7201a8"
                        ],
                        [
                          0.3333333333333333,
                          "#9c179e"
                        ],
                        [
                          0.4444444444444444,
                          "#bd3786"
                        ],
                        [
                          0.5555555555555556,
                          "#d8576b"
                        ],
                        [
                          0.6666666666666666,
                          "#ed7953"
                        ],
                        [
                          0.7777777777777778,
                          "#fb9f3a"
                        ],
                        [
                          0.8888888888888888,
                          "#fdca26"
                        ],
                        [
                          1,
                          "#f0f921"
                        ]
                      ],
                      "sequentialminus": [
                        [
                          0,
                          "#0d0887"
                        ],
                        [
                          0.1111111111111111,
                          "#46039f"
                        ],
                        [
                          0.2222222222222222,
                          "#7201a8"
                        ],
                        [
                          0.3333333333333333,
                          "#9c179e"
                        ],
                        [
                          0.4444444444444444,
                          "#bd3786"
                        ],
                        [
                          0.5555555555555556,
                          "#d8576b"
                        ],
                        [
                          0.6666666666666666,
                          "#ed7953"
                        ],
                        [
                          0.7777777777777778,
                          "#fb9f3a"
                        ],
                        [
                          0.8888888888888888,
                          "#fdca26"
                        ],
                        [
                          1,
                          "#f0f921"
                        ]
                      ]
                    },
                    "colorway": [
                      "#636efa",
                      "#EF553B",
                      "#00cc96",
                      "#ab63fa",
                      "#FFA15A",
                      "#19d3f3",
                      "#FF6692",
                      "#B6E880",
                      "#FF97FF",
                      "#FECB52"
                    ],
                    "font": {
                      "color": "#2a3f5f"
                    },
                    "geo": {
                      "bgcolor": "white",
                      "lakecolor": "white",
                      "landcolor": "#E5ECF6",
                      "showlakes": true,
                      "showland": true,
                      "subunitcolor": "white"
                    },
                    "hoverlabel": {
                      "align": "left"
                    },
                    "hovermode": "closest",
                    "mapbox": {
                      "style": "light"
                    },
                    "paper_bgcolor": "white",
                    "plot_bgcolor": "#E5ECF6",
                    "polar": {
                      "angularaxis": {
                        "gridcolor": "white",
                        "linecolor": "white",
                        "ticks": ""
                      },
                      "bgcolor": "#E5ECF6",
                      "radialaxis": {
                        "gridcolor": "white",
                        "linecolor": "white",
                        "ticks": ""
                      }
                    },
                    "scene": {
                      "xaxis": {
                        "backgroundcolor": "#E5ECF6",
                        "gridcolor": "white",
                        "gridwidth": 2,
                        "linecolor": "white",
                        "showbackground": true,
                        "ticks": "",
                        "zerolinecolor": "white"
                      },
                      "yaxis": {
                        "backgroundcolor": "#E5ECF6",
                        "gridcolor": "white",
                        "gridwidth": 2,
                        "linecolor": "white",
                        "showbackground": true,
                        "ticks": "",
                        "zerolinecolor": "white"
                      },
                      "zaxis": {
                        "backgroundcolor": "#E5ECF6",
                        "gridcolor": "white",
                        "gridwidth": 2,
                        "linecolor": "white",
                        "showbackground": true,
                        "ticks": "",
                        "zerolinecolor": "white"
                      }
                    },
                    "shapedefaults": {
                      "line": {
                        "color": "#2a3f5f"
                      }
                    },
                    "ternary": {
                      "aaxis": {
                        "gridcolor": "white",
                        "linecolor": "white",
                        "ticks": ""
                      },
                      "baxis": {
                        "gridcolor": "white",
                        "linecolor": "white",
                        "ticks": ""
                      },
                      "bgcolor": "#E5ECF6",
                      "caxis": {
                        "gridcolor": "white",
                        "linecolor": "white",
                        "ticks": ""
                      }
                    },
                    "title": {
                      "x": 0.05
                    },
                    "xaxis": {
                      "automargin": true,
                      "gridcolor": "white",
                      "linecolor": "white",
                      "ticks": "",
                      "title": {
                        "standoff": 15
                      },
                      "zerolinecolor": "white",
                      "zerolinewidth": 2
                    },
                    "yaxis": {
                      "automargin": true,
                      "gridcolor": "white",
                      "linecolor": "white",
                      "ticks": "",
                      "title": {
                        "standoff": 15
                      },
                      "zerolinecolor": "white",
                      "zerolinewidth": 2
                    }
                  }
                },
                "title": {
                  "text": "Confusion Matrix"
                },
                "xaxis": {
                  "anchor": "y",
                  "constrain": "domain",
                  "domain": [
                    0,
                    1
                  ],
                  "scaleanchor": "y",
                  "title": {
                    "text": "Prediction"
                  }
                },
                "yaxis": {
                  "anchor": "x",
                  "autorange": "reversed",
                  "constrain": "domain",
                  "domain": [
                    0,
                    1
                  ],
                  "title": {
                    "text": "Reel"
                  }
                }
              }
            }
          },
          "metadata": {},
          "output_type": "display_data"
        }
      ],
      "source": [
        "import plotly.express as px\n",
        "\n",
        "cm1 = confusion_matrix(y_test, y_pred)\n",
        "fig = px.imshow(\n",
        "    cm1,\n",
        "    labels=dict(x=\"Predict\", y=\"Reel\", color=\"Count\"),\n",
        "    x=[\"Ham\", \"Spam\"],\n",
        "    y=[\"Ham\", \"Spam\"],\n",
        "    text_auto=True,\n",
        "    color_continuous_scale='Blackbody'\n",
        ")\n",
        "\n",
        "fig.update_layout(\n",
        "    title=\"Confusion Matrix\",\n",
        "    xaxis_title=\"Prediction\",\n",
        "    yaxis_title=\"Reel\"\n",
        ")\n",
        "\n",
        "fig.show()"
      ]
    },
    {
      "cell_type": "markdown",
      "metadata": {
        "id": "lyMIeLY53eQA"
      },
      "source": [
        "# 4. Transfer Learning"
      ]
    },
    {
      "cell_type": "markdown",
      "metadata": {
        "id": "h28XhMK_JH5H"
      },
      "source": [
        "For transfer learning, we will use a model host in Huggingface. The model that we will use is a model made by Mr Michael Shenoda for text classification. This model use RoBerta (Robustly Optimized BERT Pretraining Approach) built on BERT and modifies key hyperparameters, removing the next sentence pretraining objective and trainning with much larger mini batches and learning rates. (https://huggingface.co/docs/transformers/model_doc/roberta)"
      ]
    },
    {
      "cell_type": "code",
      "execution_count": 36,
      "metadata": {
        "colab": {
          "base_uri": "https://localhost:8080/",
          "height": 455,
          "referenced_widgets": [
            "254749774adf479d855ee5bb255abd53",
            "975fcc5aa1a24bc197d24f5247995087",
            "5e7defbb491d4c8e9d99a150437a4cbf",
            "49d8eeeb28be46d9b780dd6b90d52733",
            "45c2a85c3eee4458a1cb37c2e658e002",
            "e2176265143c4843873c9d87a0205bc5",
            "fa205cc3338c450c9b6c74d6ff6f201b",
            "5923e8c387e64966a2ec33d168ff86a7",
            "15dd5fcb3612449988e6043d7c5d037b",
            "34fde1c13d0546d1a46fa78c1806764f",
            "0a1f43899b4d4081850c2d7edf11518c",
            "b242e5a1d1bf4c72a8df109192be44c6",
            "853a7a2ed43d4fb89d2c55994a8a883b",
            "de74f23397cf49538b816dc50fbc02bf",
            "5ed1789f2e144b17ae4ad2ce6757ff92",
            "56d7a6553f8643adb86059c51ec0726a",
            "9690b13acdfd4ffb9bc48677e27a30aa",
            "369e616fd42240cf9a8276e1409690d1",
            "dd3fce952b16465a8bad39bfd116d99f",
            "1ccc435d57dd485eb366e538db701ff2",
            "0efe6e2f468a44d185c8f4da9772ad87",
            "e90a147030194f8dadf354da7a0308c8",
            "fb39970ad9e54162a2775bac0947b0ec",
            "db3b34f332364298a9031cae51364b59",
            "dd6f652a11504258b3aa342593baa086",
            "2b21ae3256854edea583938814323315",
            "12e07548fce84d01ab4c3bbe68dd73d8",
            "abb3c6f727594ef382820376e709cc35",
            "edab7873c66d420e9cc1e07f98aa5ccc",
            "2dfd88c090ed4338a4aa913e6322b5f5",
            "f595ef5961044532882a97237db99967",
            "da986aa035af492181ea5f9e0ddbdfb3",
            "a2ef137c1a104fc29b49176fa55f42a1",
            "3c1af0668b5f43de91a032edb0aed1b0",
            "3d13f37e81b4415097dc915b19c3aafb",
            "8c8536f81e964d7188544458e9e9d8b7",
            "ccd30682d8af4e5f86066c51104f7040",
            "183821260ba146cda24aa8f0a8b2fdc1",
            "4527ceb89f4a41e2b9e86d230ad75c02",
            "632278a4d3814c909d77d15b801185ca",
            "ba00962018a445e388552f9a79d4c418",
            "dee240cdf2ef4fbcb0afd075660bcabb",
            "ca29a80f9e86417f97504eff89026fdc",
            "827f6d1d672444269093e95561303c3e",
            "bca7753a0e66429daecdf70ae0d75f3f",
            "1442848284674564b79d360b2df6ccc6",
            "2b20952b434643239157315302cb6a9d",
            "6bc0ae25b54d4be183c36d563e55d173",
            "0cadbd1665884481b6a02052c95d4108",
            "cfc0e6dc450a47b9838fbae3a59dfe0e",
            "9f00a5a591474fc09a3c37df344a49e2",
            "f3085a13e8164893adfd78c70fa2046a",
            "2edce3494f434bfda0a9b55ab222c4d7",
            "2b2f982fc35640eb8e435e1ecdf00045",
            "fd48f7ca3f344286a2f7676c95969f55",
            "f56b6c3c907c4452bacab51f21a87051",
            "2d1e0a271fbd409da6b527c8da81bb52",
            "9536d1964cbe43f3a477fc676fac23e5",
            "021e1de143494cf58ad1c64d6cb3a24d",
            "8189e58fcc604c17ab1fdfde90741ae7",
            "c6959b9a688b4205add6c746bd9096bc",
            "edf063259c9446609d8e3222f8cedf18",
            "d2bfd973420b4b1386dc5d3859485a96",
            "f07aa6faa50349cc9b943ee7356ce2b9",
            "c17b4360683944f288a1b1cc7f94eb77",
            "3d872129df6b4ab2a645d6eeb6a1510b"
          ]
        },
        "id": "7qPAJC95APMl",
        "outputId": "806ecd10-47f3-4b10-f9da-065e88fc9455"
      },
      "outputs": [
        {
          "name": "stdout",
          "output_type": "stream",
          "text": [
            "WARNING:tensorflow:From c:\\Users\\Typhon\\anaconda3\\Lib\\site-packages\\tf_keras\\src\\losses.py:2976: The name tf.losses.sparse_softmax_cross_entropy is deprecated. Please use tf.compat.v1.losses.sparse_softmax_cross_entropy instead.\n",
            "\n",
            "WARNING:tensorflow:From c:\\Users\\Typhon\\anaconda3\\Lib\\site-packages\\tf_keras\\src\\backend.py:873: The name tf.get_default_graph is deprecated. Please use tf.compat.v1.get_default_graph instead.\n",
            "\n"
          ]
        },
        {
          "name": "stderr",
          "output_type": "stream",
          "text": [
            "Some weights of the PyTorch model were not used when initializing the TF 2.0 model TFRobertaForSequenceClassification: ['roberta.embeddings.position_ids']\n",
            "- This IS expected if you are initializing TFRobertaForSequenceClassification from a PyTorch model trained on another task or with another architecture (e.g. initializing a TFBertForSequenceClassification model from a BertForPreTraining model).\n",
            "- This IS NOT expected if you are initializing TFRobertaForSequenceClassification from a PyTorch model that you expect to be exactly identical (e.g. initializing a TFBertForSequenceClassification model from a BertForSequenceClassification model).\n",
            "All the weights of TFRobertaForSequenceClassification were initialized from the PyTorch model.\n",
            "If your task is similar to the task the model of the checkpoint was trained on, you can already use TFRobertaForSequenceClassification for predictions without further training.\n"
          ]
        }
      ],
      "source": [
        "from transformers import AutoTokenizer, TFAutoModelForSequenceClassification\n",
        "import tensorflow as tf\n",
        "\n",
        "# Load model and tokenizer from huggingface\n",
        "model_name = \"mshenoda/roberta-spam\"\n",
        "tokenizer = AutoTokenizer.from_pretrained(model_name)\n",
        "model = TFAutoModelForSequenceClassification.from_pretrained(model_name)\n",
        "\n",
        "# Check for GPU use\n",
        "device = \"/GPU:0\" if tf.config.list_physical_devices('GPU') else \"/CPU:0\"\n",
        "\n"
      ]
    },
    {
      "cell_type": "code",
      "execution_count": 58,
      "metadata": {
        "id": "7moOYb0aGI39"
      },
      "outputs": [],
      "source": [
        "import pandas as pd\n",
        "\n",
        "df = pd.read_csv(\"spam.csv\",  encoding='latin-1')\n",
        "df = df[['v1', 'v2']].copy()\n",
        "df.columns = ['label', 'message']\n",
        "df['label'] = df['label'].map({'ham': 0, 'spam': 1})"
      ]
    },
    {
      "cell_type": "code",
      "execution_count": 59,
      "metadata": {
        "colab": {
          "base_uri": "https://localhost:8080/",
          "height": 206
        },
        "id": "FmuOMEDwGnXE",
        "outputId": "da9e6c59-2462-42c6-bb8e-39275f0a1a6f"
      },
      "outputs": [
        {
          "data": {
            "application/vnd.microsoft.datawrangler.viewer.v0+json": {
              "columns": [
                {
                  "name": "index",
                  "rawType": "int64",
                  "type": "integer"
                },
                {
                  "name": "label",
                  "rawType": "int64",
                  "type": "integer"
                },
                {
                  "name": "message",
                  "rawType": "object",
                  "type": "string"
                }
              ],
              "ref": "50d3e5d6-90ea-4898-b04e-12a9fb48098c",
              "rows": [
                [
                  "0",
                  "0",
                  "Go until jurong point, crazy.. Available only in bugis n great world la e buffet... Cine there got amore wat..."
                ],
                [
                  "1",
                  "0",
                  "Ok lar... Joking wif u oni..."
                ],
                [
                  "2",
                  "1",
                  "Free entry in 2 a wkly comp to win FA Cup final tkts 21st May 2005. Text FA to 87121 to receive entry question(std txt rate)T&C's apply 08452810075over18's"
                ],
                [
                  "3",
                  "0",
                  "U dun say so early hor... U c already then say..."
                ],
                [
                  "4",
                  "0",
                  "Nah I don't think he goes to usf, he lives around here though"
                ]
              ],
              "shape": {
                "columns": 2,
                "rows": 5
              }
            },
            "text/html": [
              "<div>\n",
              "<style scoped>\n",
              "    .dataframe tbody tr th:only-of-type {\n",
              "        vertical-align: middle;\n",
              "    }\n",
              "\n",
              "    .dataframe tbody tr th {\n",
              "        vertical-align: top;\n",
              "    }\n",
              "\n",
              "    .dataframe thead th {\n",
              "        text-align: right;\n",
              "    }\n",
              "</style>\n",
              "<table border=\"1\" class=\"dataframe\">\n",
              "  <thead>\n",
              "    <tr style=\"text-align: right;\">\n",
              "      <th></th>\n",
              "      <th>label</th>\n",
              "      <th>message</th>\n",
              "    </tr>\n",
              "  </thead>\n",
              "  <tbody>\n",
              "    <tr>\n",
              "      <th>0</th>\n",
              "      <td>0</td>\n",
              "      <td>Go until jurong point, crazy.. Available only ...</td>\n",
              "    </tr>\n",
              "    <tr>\n",
              "      <th>1</th>\n",
              "      <td>0</td>\n",
              "      <td>Ok lar... Joking wif u oni...</td>\n",
              "    </tr>\n",
              "    <tr>\n",
              "      <th>2</th>\n",
              "      <td>1</td>\n",
              "      <td>Free entry in 2 a wkly comp to win FA Cup fina...</td>\n",
              "    </tr>\n",
              "    <tr>\n",
              "      <th>3</th>\n",
              "      <td>0</td>\n",
              "      <td>U dun say so early hor... U c already then say...</td>\n",
              "    </tr>\n",
              "    <tr>\n",
              "      <th>4</th>\n",
              "      <td>0</td>\n",
              "      <td>Nah I don't think he goes to usf, he lives aro...</td>\n",
              "    </tr>\n",
              "  </tbody>\n",
              "</table>\n",
              "</div>"
            ],
            "text/plain": [
              "   label                                            message\n",
              "0      0  Go until jurong point, crazy.. Available only ...\n",
              "1      0                      Ok lar... Joking wif u oni...\n",
              "2      1  Free entry in 2 a wkly comp to win FA Cup fina...\n",
              "3      0  U dun say so early hor... U c already then say...\n",
              "4      0  Nah I don't think he goes to usf, he lives aro..."
            ]
          },
          "execution_count": 59,
          "metadata": {},
          "output_type": "execute_result"
        }
      ],
      "source": [
        "df.head()"
      ]
    },
    {
      "cell_type": "code",
      "execution_count": 60,
      "metadata": {},
      "outputs": [],
      "source": [
        "X_train, X_test, y_train, y_test = train_test_split(df['message'], df['label'], test_size=0.2, random_state=42)"
      ]
    },
    {
      "cell_type": "code",
      "execution_count": 62,
      "metadata": {},
      "outputs": [],
      "source": [
        "encodings = tokenizer(\n",
        "    list(X_test), padding=True, truncation=True, max_length=512, return_tensors=\"tf\"\n",
        ")\n",
        "test_dataset = tf.data.Dataset.from_tensor_slices((dict(encodings))).batch(16)"
      ]
    },
    {
      "cell_type": "code",
      "execution_count": 63,
      "metadata": {
        "colab": {
          "base_uri": "https://localhost:8080/"
        },
        "id": "I4UCzV2vGsGa",
        "outputId": "92546709-b8fb-433f-cf84-192b578d1753"
      },
      "outputs": [
        {
          "data": {
            "text/plain": [
              "{'input_ids': <tf.Tensor: shape=(1115, 218), dtype=int32, numpy=\n",
              "array([[    0,   597, 40485, ...,     1,     1,     1],\n",
              "       [    0,   100,  1051, ...,     1,     1,     1],\n",
              "       [    0,   170,   216, ...,     1,     1,     1],\n",
              "       ...,\n",
              "       [    0,  9904,   939, ...,     1,     1,     1],\n",
              "       [    0, 14181,     5, ...,     1,     1,     1],\n",
              "       [    0, 29233, 12943, ...,     1,     1,     1]])>, 'attention_mask': <tf.Tensor: shape=(1115, 218), dtype=int32, numpy=\n",
              "array([[1, 1, 1, ..., 0, 0, 0],\n",
              "       [1, 1, 1, ..., 0, 0, 0],\n",
              "       [1, 1, 1, ..., 0, 0, 0],\n",
              "       ...,\n",
              "       [1, 1, 1, ..., 0, 0, 0],\n",
              "       [1, 1, 1, ..., 0, 0, 0],\n",
              "       [1, 1, 1, ..., 0, 0, 0]])>}"
            ]
          },
          "execution_count": 63,
          "metadata": {},
          "output_type": "execute_result"
        }
      ],
      "source": [
        "encodings"
      ]
    },
    {
      "cell_type": "code",
      "execution_count": 70,
      "metadata": {
        "colab": {
          "base_uri": "https://localhost:8080/"
        },
        "id": "sIEyVJmXGvth",
        "outputId": "83cf3291-5467-48a4-831d-c0ddbba4dd22"
      },
      "outputs": [
        {
          "data": {
            "text/plain": [
              "<_BatchDataset element_spec={'input_ids': TensorSpec(shape=(None, 218), dtype=tf.int32, name=None), 'attention_mask': TensorSpec(shape=(None, 218), dtype=tf.int32, name=None)}>"
            ]
          },
          "execution_count": 70,
          "metadata": {},
          "output_type": "execute_result"
        }
      ],
      "source": [
        "test_dataset"
      ]
    },
    {
      "cell_type": "code",
      "execution_count": 74,
      "metadata": {
        "colab": {
          "base_uri": "https://localhost:8080/"
        },
        "id": "cP2P8wrzG787",
        "outputId": "865d7ce8-3725-49a2-9a23-cc601dca98e6"
      },
      "outputs": [
        {
          "name": "stdout",
          "output_type": "stream",
          "text": [
            "70/70 [==============================] - 464s 7s/step\n"
          ]
        }
      ],
      "source": [
        "# model predictions\n",
        "y_pred_logits = model.predict(test_dataset).logits\n",
        "\n",
        "# Convert logits into classes (0 or 1)\n",
        "y_pred = np.argmax(y_pred_logits, axis=1)\n",
        "y_true = y_test.values\n"
      ]
    },
    {
      "cell_type": "code",
      "execution_count": 75,
      "metadata": {
        "id": "ZN9AnqHx_5l2"
      },
      "outputs": [],
      "source": [
        "from sklearn.metrics import classification_report, confusion_matrix\n",
        "import plotly.express as px"
      ]
    },
    {
      "cell_type": "code",
      "execution_count": 76,
      "metadata": {
        "colab": {
          "base_uri": "https://localhost:8080/"
        },
        "id": "UzlBpxx81bVu",
        "outputId": "1f747415-57d9-4e18-9b8e-a4be47841077"
      },
      "outputs": [
        {
          "name": "stdout",
          "output_type": "stream",
          "text": [
            "              precision    recall  f1-score   support\n",
            "\n",
            "           0       1.00      1.00      1.00       965\n",
            "           1       1.00      1.00      1.00       150\n",
            "\n",
            "    accuracy                           1.00      1115\n",
            "   macro avg       1.00      1.00      1.00      1115\n",
            "weighted avg       1.00      1.00      1.00      1115\n",
            "\n"
          ]
        }
      ],
      "source": [
        "print(classification_report(y_true, y_pred))"
      ]
    },
    {
      "cell_type": "markdown",
      "metadata": {},
      "source": [
        "As we can see we get good scores, we don't need to do any fine tuning here, just inference"
      ]
    },
    {
      "cell_type": "code",
      "execution_count": 77,
      "metadata": {
        "colab": {
          "base_uri": "https://localhost:8080/",
          "height": 542
        },
        "collapsed": true,
        "id": "7j2mjQR1MIsH",
        "outputId": "75b73535-b05e-42de-c065-4f485322f621"
      },
      "outputs": [
        {
          "data": {
            "application/vnd.plotly.v1+json": {
              "config": {
                "plotlyServerURL": "https://plot.ly"
              },
              "data": [
                {
                  "coloraxis": "coloraxis",
                  "hovertemplate": "Predict: %{x}<br>Reel: %{y}<br>Count: %{z}<extra></extra>",
                  "name": "0",
                  "texttemplate": "%{z}",
                  "type": "heatmap",
                  "x": [
                    "Ham",
                    "Spam"
                  ],
                  "xaxis": "x",
                  "y": [
                    "Ham",
                    "Spam"
                  ],
                  "yaxis": "y",
                  "z": [
                    [
                      965,
                      0
                    ],
                    [
                      0,
                      150
                    ]
                  ]
                }
              ],
              "layout": {
                "coloraxis": {
                  "colorbar": {
                    "title": {
                      "text": "Count"
                    }
                  },
                  "colorscale": [
                    [
                      0,
                      "rgb(0,0,0)"
                    ],
                    [
                      0.25,
                      "rgb(230,0,0)"
                    ],
                    [
                      0.5,
                      "rgb(230,210,0)"
                    ],
                    [
                      0.75,
                      "rgb(255,255,255)"
                    ],
                    [
                      1,
                      "rgb(160,200,255)"
                    ]
                  ]
                },
                "margin": {
                  "t": 60
                },
                "template": {
                  "data": {
                    "bar": [
                      {
                        "error_x": {
                          "color": "#2a3f5f"
                        },
                        "error_y": {
                          "color": "#2a3f5f"
                        },
                        "marker": {
                          "line": {
                            "color": "#E5ECF6",
                            "width": 0.5
                          },
                          "pattern": {
                            "fillmode": "overlay",
                            "size": 10,
                            "solidity": 0.2
                          }
                        },
                        "type": "bar"
                      }
                    ],
                    "barpolar": [
                      {
                        "marker": {
                          "line": {
                            "color": "#E5ECF6",
                            "width": 0.5
                          },
                          "pattern": {
                            "fillmode": "overlay",
                            "size": 10,
                            "solidity": 0.2
                          }
                        },
                        "type": "barpolar"
                      }
                    ],
                    "carpet": [
                      {
                        "aaxis": {
                          "endlinecolor": "#2a3f5f",
                          "gridcolor": "white",
                          "linecolor": "white",
                          "minorgridcolor": "white",
                          "startlinecolor": "#2a3f5f"
                        },
                        "baxis": {
                          "endlinecolor": "#2a3f5f",
                          "gridcolor": "white",
                          "linecolor": "white",
                          "minorgridcolor": "white",
                          "startlinecolor": "#2a3f5f"
                        },
                        "type": "carpet"
                      }
                    ],
                    "choropleth": [
                      {
                        "colorbar": {
                          "outlinewidth": 0,
                          "ticks": ""
                        },
                        "type": "choropleth"
                      }
                    ],
                    "contour": [
                      {
                        "colorbar": {
                          "outlinewidth": 0,
                          "ticks": ""
                        },
                        "colorscale": [
                          [
                            0,
                            "#0d0887"
                          ],
                          [
                            0.1111111111111111,
                            "#46039f"
                          ],
                          [
                            0.2222222222222222,
                            "#7201a8"
                          ],
                          [
                            0.3333333333333333,
                            "#9c179e"
                          ],
                          [
                            0.4444444444444444,
                            "#bd3786"
                          ],
                          [
                            0.5555555555555556,
                            "#d8576b"
                          ],
                          [
                            0.6666666666666666,
                            "#ed7953"
                          ],
                          [
                            0.7777777777777778,
                            "#fb9f3a"
                          ],
                          [
                            0.8888888888888888,
                            "#fdca26"
                          ],
                          [
                            1,
                            "#f0f921"
                          ]
                        ],
                        "type": "contour"
                      }
                    ],
                    "contourcarpet": [
                      {
                        "colorbar": {
                          "outlinewidth": 0,
                          "ticks": ""
                        },
                        "type": "contourcarpet"
                      }
                    ],
                    "heatmap": [
                      {
                        "colorbar": {
                          "outlinewidth": 0,
                          "ticks": ""
                        },
                        "colorscale": [
                          [
                            0,
                            "#0d0887"
                          ],
                          [
                            0.1111111111111111,
                            "#46039f"
                          ],
                          [
                            0.2222222222222222,
                            "#7201a8"
                          ],
                          [
                            0.3333333333333333,
                            "#9c179e"
                          ],
                          [
                            0.4444444444444444,
                            "#bd3786"
                          ],
                          [
                            0.5555555555555556,
                            "#d8576b"
                          ],
                          [
                            0.6666666666666666,
                            "#ed7953"
                          ],
                          [
                            0.7777777777777778,
                            "#fb9f3a"
                          ],
                          [
                            0.8888888888888888,
                            "#fdca26"
                          ],
                          [
                            1,
                            "#f0f921"
                          ]
                        ],
                        "type": "heatmap"
                      }
                    ],
                    "heatmapgl": [
                      {
                        "colorbar": {
                          "outlinewidth": 0,
                          "ticks": ""
                        },
                        "colorscale": [
                          [
                            0,
                            "#0d0887"
                          ],
                          [
                            0.1111111111111111,
                            "#46039f"
                          ],
                          [
                            0.2222222222222222,
                            "#7201a8"
                          ],
                          [
                            0.3333333333333333,
                            "#9c179e"
                          ],
                          [
                            0.4444444444444444,
                            "#bd3786"
                          ],
                          [
                            0.5555555555555556,
                            "#d8576b"
                          ],
                          [
                            0.6666666666666666,
                            "#ed7953"
                          ],
                          [
                            0.7777777777777778,
                            "#fb9f3a"
                          ],
                          [
                            0.8888888888888888,
                            "#fdca26"
                          ],
                          [
                            1,
                            "#f0f921"
                          ]
                        ],
                        "type": "heatmapgl"
                      }
                    ],
                    "histogram": [
                      {
                        "marker": {
                          "pattern": {
                            "fillmode": "overlay",
                            "size": 10,
                            "solidity": 0.2
                          }
                        },
                        "type": "histogram"
                      }
                    ],
                    "histogram2d": [
                      {
                        "colorbar": {
                          "outlinewidth": 0,
                          "ticks": ""
                        },
                        "colorscale": [
                          [
                            0,
                            "#0d0887"
                          ],
                          [
                            0.1111111111111111,
                            "#46039f"
                          ],
                          [
                            0.2222222222222222,
                            "#7201a8"
                          ],
                          [
                            0.3333333333333333,
                            "#9c179e"
                          ],
                          [
                            0.4444444444444444,
                            "#bd3786"
                          ],
                          [
                            0.5555555555555556,
                            "#d8576b"
                          ],
                          [
                            0.6666666666666666,
                            "#ed7953"
                          ],
                          [
                            0.7777777777777778,
                            "#fb9f3a"
                          ],
                          [
                            0.8888888888888888,
                            "#fdca26"
                          ],
                          [
                            1,
                            "#f0f921"
                          ]
                        ],
                        "type": "histogram2d"
                      }
                    ],
                    "histogram2dcontour": [
                      {
                        "colorbar": {
                          "outlinewidth": 0,
                          "ticks": ""
                        },
                        "colorscale": [
                          [
                            0,
                            "#0d0887"
                          ],
                          [
                            0.1111111111111111,
                            "#46039f"
                          ],
                          [
                            0.2222222222222222,
                            "#7201a8"
                          ],
                          [
                            0.3333333333333333,
                            "#9c179e"
                          ],
                          [
                            0.4444444444444444,
                            "#bd3786"
                          ],
                          [
                            0.5555555555555556,
                            "#d8576b"
                          ],
                          [
                            0.6666666666666666,
                            "#ed7953"
                          ],
                          [
                            0.7777777777777778,
                            "#fb9f3a"
                          ],
                          [
                            0.8888888888888888,
                            "#fdca26"
                          ],
                          [
                            1,
                            "#f0f921"
                          ]
                        ],
                        "type": "histogram2dcontour"
                      }
                    ],
                    "mesh3d": [
                      {
                        "colorbar": {
                          "outlinewidth": 0,
                          "ticks": ""
                        },
                        "type": "mesh3d"
                      }
                    ],
                    "parcoords": [
                      {
                        "line": {
                          "colorbar": {
                            "outlinewidth": 0,
                            "ticks": ""
                          }
                        },
                        "type": "parcoords"
                      }
                    ],
                    "pie": [
                      {
                        "automargin": true,
                        "type": "pie"
                      }
                    ],
                    "scatter": [
                      {
                        "fillpattern": {
                          "fillmode": "overlay",
                          "size": 10,
                          "solidity": 0.2
                        },
                        "type": "scatter"
                      }
                    ],
                    "scatter3d": [
                      {
                        "line": {
                          "colorbar": {
                            "outlinewidth": 0,
                            "ticks": ""
                          }
                        },
                        "marker": {
                          "colorbar": {
                            "outlinewidth": 0,
                            "ticks": ""
                          }
                        },
                        "type": "scatter3d"
                      }
                    ],
                    "scattercarpet": [
                      {
                        "marker": {
                          "colorbar": {
                            "outlinewidth": 0,
                            "ticks": ""
                          }
                        },
                        "type": "scattercarpet"
                      }
                    ],
                    "scattergeo": [
                      {
                        "marker": {
                          "colorbar": {
                            "outlinewidth": 0,
                            "ticks": ""
                          }
                        },
                        "type": "scattergeo"
                      }
                    ],
                    "scattergl": [
                      {
                        "marker": {
                          "colorbar": {
                            "outlinewidth": 0,
                            "ticks": ""
                          }
                        },
                        "type": "scattergl"
                      }
                    ],
                    "scattermapbox": [
                      {
                        "marker": {
                          "colorbar": {
                            "outlinewidth": 0,
                            "ticks": ""
                          }
                        },
                        "type": "scattermapbox"
                      }
                    ],
                    "scatterpolar": [
                      {
                        "marker": {
                          "colorbar": {
                            "outlinewidth": 0,
                            "ticks": ""
                          }
                        },
                        "type": "scatterpolar"
                      }
                    ],
                    "scatterpolargl": [
                      {
                        "marker": {
                          "colorbar": {
                            "outlinewidth": 0,
                            "ticks": ""
                          }
                        },
                        "type": "scatterpolargl"
                      }
                    ],
                    "scatterternary": [
                      {
                        "marker": {
                          "colorbar": {
                            "outlinewidth": 0,
                            "ticks": ""
                          }
                        },
                        "type": "scatterternary"
                      }
                    ],
                    "surface": [
                      {
                        "colorbar": {
                          "outlinewidth": 0,
                          "ticks": ""
                        },
                        "colorscale": [
                          [
                            0,
                            "#0d0887"
                          ],
                          [
                            0.1111111111111111,
                            "#46039f"
                          ],
                          [
                            0.2222222222222222,
                            "#7201a8"
                          ],
                          [
                            0.3333333333333333,
                            "#9c179e"
                          ],
                          [
                            0.4444444444444444,
                            "#bd3786"
                          ],
                          [
                            0.5555555555555556,
                            "#d8576b"
                          ],
                          [
                            0.6666666666666666,
                            "#ed7953"
                          ],
                          [
                            0.7777777777777778,
                            "#fb9f3a"
                          ],
                          [
                            0.8888888888888888,
                            "#fdca26"
                          ],
                          [
                            1,
                            "#f0f921"
                          ]
                        ],
                        "type": "surface"
                      }
                    ],
                    "table": [
                      {
                        "cells": {
                          "fill": {
                            "color": "#EBF0F8"
                          },
                          "line": {
                            "color": "white"
                          }
                        },
                        "header": {
                          "fill": {
                            "color": "#C8D4E3"
                          },
                          "line": {
                            "color": "white"
                          }
                        },
                        "type": "table"
                      }
                    ]
                  },
                  "layout": {
                    "annotationdefaults": {
                      "arrowcolor": "#2a3f5f",
                      "arrowhead": 0,
                      "arrowwidth": 1
                    },
                    "autotypenumbers": "strict",
                    "coloraxis": {
                      "colorbar": {
                        "outlinewidth": 0,
                        "ticks": ""
                      }
                    },
                    "colorscale": {
                      "diverging": [
                        [
                          0,
                          "#8e0152"
                        ],
                        [
                          0.1,
                          "#c51b7d"
                        ],
                        [
                          0.2,
                          "#de77ae"
                        ],
                        [
                          0.3,
                          "#f1b6da"
                        ],
                        [
                          0.4,
                          "#fde0ef"
                        ],
                        [
                          0.5,
                          "#f7f7f7"
                        ],
                        [
                          0.6,
                          "#e6f5d0"
                        ],
                        [
                          0.7,
                          "#b8e186"
                        ],
                        [
                          0.8,
                          "#7fbc41"
                        ],
                        [
                          0.9,
                          "#4d9221"
                        ],
                        [
                          1,
                          "#276419"
                        ]
                      ],
                      "sequential": [
                        [
                          0,
                          "#0d0887"
                        ],
                        [
                          0.1111111111111111,
                          "#46039f"
                        ],
                        [
                          0.2222222222222222,
                          "#7201a8"
                        ],
                        [
                          0.3333333333333333,
                          "#9c179e"
                        ],
                        [
                          0.4444444444444444,
                          "#bd3786"
                        ],
                        [
                          0.5555555555555556,
                          "#d8576b"
                        ],
                        [
                          0.6666666666666666,
                          "#ed7953"
                        ],
                        [
                          0.7777777777777778,
                          "#fb9f3a"
                        ],
                        [
                          0.8888888888888888,
                          "#fdca26"
                        ],
                        [
                          1,
                          "#f0f921"
                        ]
                      ],
                      "sequentialminus": [
                        [
                          0,
                          "#0d0887"
                        ],
                        [
                          0.1111111111111111,
                          "#46039f"
                        ],
                        [
                          0.2222222222222222,
                          "#7201a8"
                        ],
                        [
                          0.3333333333333333,
                          "#9c179e"
                        ],
                        [
                          0.4444444444444444,
                          "#bd3786"
                        ],
                        [
                          0.5555555555555556,
                          "#d8576b"
                        ],
                        [
                          0.6666666666666666,
                          "#ed7953"
                        ],
                        [
                          0.7777777777777778,
                          "#fb9f3a"
                        ],
                        [
                          0.8888888888888888,
                          "#fdca26"
                        ],
                        [
                          1,
                          "#f0f921"
                        ]
                      ]
                    },
                    "colorway": [
                      "#636efa",
                      "#EF553B",
                      "#00cc96",
                      "#ab63fa",
                      "#FFA15A",
                      "#19d3f3",
                      "#FF6692",
                      "#B6E880",
                      "#FF97FF",
                      "#FECB52"
                    ],
                    "font": {
                      "color": "#2a3f5f"
                    },
                    "geo": {
                      "bgcolor": "white",
                      "lakecolor": "white",
                      "landcolor": "#E5ECF6",
                      "showlakes": true,
                      "showland": true,
                      "subunitcolor": "white"
                    },
                    "hoverlabel": {
                      "align": "left"
                    },
                    "hovermode": "closest",
                    "mapbox": {
                      "style": "light"
                    },
                    "paper_bgcolor": "white",
                    "plot_bgcolor": "#E5ECF6",
                    "polar": {
                      "angularaxis": {
                        "gridcolor": "white",
                        "linecolor": "white",
                        "ticks": ""
                      },
                      "bgcolor": "#E5ECF6",
                      "radialaxis": {
                        "gridcolor": "white",
                        "linecolor": "white",
                        "ticks": ""
                      }
                    },
                    "scene": {
                      "xaxis": {
                        "backgroundcolor": "#E5ECF6",
                        "gridcolor": "white",
                        "gridwidth": 2,
                        "linecolor": "white",
                        "showbackground": true,
                        "ticks": "",
                        "zerolinecolor": "white"
                      },
                      "yaxis": {
                        "backgroundcolor": "#E5ECF6",
                        "gridcolor": "white",
                        "gridwidth": 2,
                        "linecolor": "white",
                        "showbackground": true,
                        "ticks": "",
                        "zerolinecolor": "white"
                      },
                      "zaxis": {
                        "backgroundcolor": "#E5ECF6",
                        "gridcolor": "white",
                        "gridwidth": 2,
                        "linecolor": "white",
                        "showbackground": true,
                        "ticks": "",
                        "zerolinecolor": "white"
                      }
                    },
                    "shapedefaults": {
                      "line": {
                        "color": "#2a3f5f"
                      }
                    },
                    "ternary": {
                      "aaxis": {
                        "gridcolor": "white",
                        "linecolor": "white",
                        "ticks": ""
                      },
                      "baxis": {
                        "gridcolor": "white",
                        "linecolor": "white",
                        "ticks": ""
                      },
                      "bgcolor": "#E5ECF6",
                      "caxis": {
                        "gridcolor": "white",
                        "linecolor": "white",
                        "ticks": ""
                      }
                    },
                    "title": {
                      "x": 0.05
                    },
                    "xaxis": {
                      "automargin": true,
                      "gridcolor": "white",
                      "linecolor": "white",
                      "ticks": "",
                      "title": {
                        "standoff": 15
                      },
                      "zerolinecolor": "white",
                      "zerolinewidth": 2
                    },
                    "yaxis": {
                      "automargin": true,
                      "gridcolor": "white",
                      "linecolor": "white",
                      "ticks": "",
                      "title": {
                        "standoff": 15
                      },
                      "zerolinecolor": "white",
                      "zerolinewidth": 2
                    }
                  }
                },
                "title": {
                  "text": "Confusion Matrix"
                },
                "xaxis": {
                  "anchor": "y",
                  "constrain": "domain",
                  "domain": [
                    0,
                    1
                  ],
                  "scaleanchor": "y",
                  "title": {
                    "text": "Prediction"
                  }
                },
                "yaxis": {
                  "anchor": "x",
                  "autorange": "reversed",
                  "constrain": "domain",
                  "domain": [
                    0,
                    1
                  ],
                  "title": {
                    "text": "Reel"
                  }
                }
              }
            }
          },
          "metadata": {},
          "output_type": "display_data"
        }
      ],
      "source": [
        "cm2 = confusion_matrix(y_true, y_pred)\n",
        "fig = px.imshow(\n",
        "    cm2,\n",
        "    labels=dict(x=\"Predict\", y=\"Reel\", color=\"Count\"),\n",
        "    x=[\"Ham\", \"Spam\"],\n",
        "    y=[\"Ham\", \"Spam\"],\n",
        "    text_auto=True,\n",
        "    color_continuous_scale='Blackbody'\n",
        ")\n",
        "\n",
        "fig.update_layout(\n",
        "    title=\"Confusion Matrix\",\n",
        "    xaxis_title=\"Prediction\",\n",
        "    yaxis_title=\"Reel\"\n",
        ")\n",
        "\n",
        "fig.show()"
      ]
    },
    {
      "cell_type": "markdown",
      "metadata": {
        "id": "blZVZe-tFEau"
      },
      "source": [
        "Save the model & tokenizer : to save the model we will use **save_pretrained** provided from transformers library and is the recommanded way to save models from this library"
      ]
    },
    {
      "cell_type": "code",
      "execution_count": 78,
      "metadata": {
        "colab": {
          "base_uri": "https://localhost:8080/"
        },
        "id": "bS1xAnGbFPM_",
        "outputId": "59d377a7-a835-4ebc-816a-c294dab5d44a"
      },
      "outputs": [
        {
          "name": "stdout",
          "output_type": "stream",
          "text": [
            "Model & tokenizer saved !\n"
          ]
        }
      ],
      "source": [
        "model.save_pretrained(\"spam_tl\")\n",
        "tokenizer.save_pretrained(\"spam_tokenizer_tl\")\n",
        "print(\"Model & tokenizer saved !\")"
      ]
    },
    {
      "cell_type": "code",
      "execution_count": 79,
      "metadata": {
        "colab": {
          "base_uri": "https://localhost:8080/",
          "height": 407
        },
        "id": "87kEUfgDZCAT",
        "outputId": "5bebce1a-eece-4de9-c995-19d2707e70b4"
      },
      "outputs": [
        {
          "data": {
            "image/png": "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",
            "text/plain": [
              "<Figure size 1000x400 with 4 Axes>"
            ]
          },
          "metadata": {},
          "output_type": "display_data"
        }
      ],
      "source": [
        "from sklearn.metrics import confusion_matrix\n",
        "import seaborn as sns\n",
        "import matplotlib.pyplot as plt\n",
        "\n",
        "\n",
        "fig, axes = plt.subplots(1, 2, figsize=(10, 4))\n",
        "\n",
        "# Confusion matrix baseline model\n",
        "sns.heatmap(cm1, annot=True, fmt='d', cmap=\"gnuplot\", xticklabels=[\"Ham\", \"Spam\"], yticklabels=[\"Ham\", \"Spam\"], ax=axes[0])\n",
        "axes[0].set_title(\"Confusion matrix - Baseline\")\n",
        "axes[0].set_xlabel(\"Predict\")\n",
        "axes[0].set_ylabel(\"Real\")\n",
        "\n",
        "# Confusion matrix transfer learning\n",
        "sns.heatmap(cm2, annot=True, fmt='d', cmap=\"gnuplot\", xticklabels=[\"Ham\", \"Spam\"], yticklabels=[\"Ham\", \"Spam\"], ax=axes[1])\n",
        "axes[1].set_title(\"Confusion matrix - Transfer Learning\")\n",
        "axes[1].set_xlabel(\"Predict\")\n",
        "axes[1].set_ylabel(\"\")\n",
        "\n",
        "# Show charts\n",
        "plt.tight_layout()\n",
        "plt.show()\n"
      ]
    },
    {
      "cell_type": "markdown",
      "metadata": {
        "id": "4Bghb49KEI0R"
      },
      "source": [
        "# 5. Gradio"
      ]
    },
    {
      "cell_type": "code",
      "execution_count": null,
      "metadata": {
        "colab": {
          "base_uri": "https://localhost:8080/"
        },
        "collapsed": true,
        "id": "QThMUO87EWSg",
        "outputId": "c3896270-cf6c-4666-931d-8635eaadca49"
      },
      "outputs": [
        {
          "name": "stdout",
          "output_type": "stream",
          "text": [
            "Requirement already satisfied: gradio in /usr/local/lib/python3.11/dist-packages (5.31.0)\n",
            "Requirement already satisfied: aiofiles<25.0,>=22.0 in /usr/local/lib/python3.11/dist-packages (from gradio) (24.1.0)\n",
            "Requirement already satisfied: anyio<5.0,>=3.0 in /usr/local/lib/python3.11/dist-packages (from gradio) (4.9.0)\n",
            "Requirement already satisfied: fastapi<1.0,>=0.115.2 in /usr/local/lib/python3.11/dist-packages (from gradio) (0.115.12)\n",
            "Requirement already satisfied: ffmpy in /usr/local/lib/python3.11/dist-packages (from gradio) (0.5.0)\n",
            "Requirement already satisfied: gradio-client==1.10.1 in /usr/local/lib/python3.11/dist-packages (from gradio) (1.10.1)\n",
            "Requirement already satisfied: groovy~=0.1 in /usr/local/lib/python3.11/dist-packages (from gradio) (0.1.2)\n",
            "Requirement already satisfied: httpx>=0.24.1 in /usr/local/lib/python3.11/dist-packages (from gradio) (0.28.1)\n",
            "Requirement already satisfied: huggingface-hub>=0.28.1 in /usr/local/lib/python3.11/dist-packages (from gradio) (0.32.2)\n",
            "Requirement already satisfied: jinja2<4.0 in /usr/local/lib/python3.11/dist-packages (from gradio) (3.1.6)\n",
            "Requirement already satisfied: markupsafe<4.0,>=2.0 in /usr/local/lib/python3.11/dist-packages (from gradio) (3.0.2)\n",
            "Requirement already satisfied: numpy<3.0,>=1.0 in /usr/local/lib/python3.11/dist-packages (from gradio) (2.0.2)\n",
            "Requirement already satisfied: orjson~=3.0 in /usr/local/lib/python3.11/dist-packages (from gradio) (3.10.18)\n",
            "Requirement already satisfied: packaging in /usr/local/lib/python3.11/dist-packages (from gradio) (24.2)\n",
            "Requirement already satisfied: pandas<3.0,>=1.0 in /usr/local/lib/python3.11/dist-packages (from gradio) (2.2.2)\n",
            "Requirement already satisfied: pillow<12.0,>=8.0 in /usr/local/lib/python3.11/dist-packages (from gradio) (11.2.1)\n",
            "Requirement already satisfied: pydantic<2.12,>=2.0 in /usr/local/lib/python3.11/dist-packages (from gradio) (2.11.5)\n",
            "Requirement already satisfied: pydub in /usr/local/lib/python3.11/dist-packages (from gradio) (0.25.1)\n",
            "Requirement already satisfied: python-multipart>=0.0.18 in /usr/local/lib/python3.11/dist-packages (from gradio) (0.0.20)\n",
            "Requirement already satisfied: pyyaml<7.0,>=5.0 in /usr/local/lib/python3.11/dist-packages (from gradio) (6.0.2)\n",
            "Requirement already satisfied: ruff>=0.9.3 in /usr/local/lib/python3.11/dist-packages (from gradio) (0.11.12)\n",
            "Requirement already satisfied: safehttpx<0.2.0,>=0.1.6 in /usr/local/lib/python3.11/dist-packages (from gradio) (0.1.6)\n",
            "Requirement already satisfied: semantic-version~=2.0 in /usr/local/lib/python3.11/dist-packages (from gradio) (2.10.0)\n",
            "Requirement already satisfied: starlette<1.0,>=0.40.0 in /usr/local/lib/python3.11/dist-packages (from gradio) (0.46.2)\n",
            "Requirement already satisfied: tomlkit<0.14.0,>=0.12.0 in /usr/local/lib/python3.11/dist-packages (from gradio) (0.13.2)\n",
            "Requirement already satisfied: typer<1.0,>=0.12 in /usr/local/lib/python3.11/dist-packages (from gradio) (0.16.0)\n",
            "Requirement already satisfied: typing-extensions~=4.0 in /usr/local/lib/python3.11/dist-packages (from gradio) (4.13.2)\n",
            "Requirement already satisfied: uvicorn>=0.14.0 in /usr/local/lib/python3.11/dist-packages (from gradio) (0.34.2)\n",
            "Requirement already satisfied: fsspec in /usr/local/lib/python3.11/dist-packages (from gradio-client==1.10.1->gradio) (2025.3.2)\n",
            "Requirement already satisfied: websockets<16.0,>=10.0 in /usr/local/lib/python3.11/dist-packages (from gradio-client==1.10.1->gradio) (15.0.1)\n",
            "Requirement already satisfied: idna>=2.8 in /usr/local/lib/python3.11/dist-packages (from anyio<5.0,>=3.0->gradio) (3.10)\n",
            "Requirement already satisfied: sniffio>=1.1 in /usr/local/lib/python3.11/dist-packages (from anyio<5.0,>=3.0->gradio) (1.3.1)\n",
            "Requirement already satisfied: certifi in /usr/local/lib/python3.11/dist-packages (from httpx>=0.24.1->gradio) (2025.4.26)\n",
            "Requirement already satisfied: httpcore==1.* in /usr/local/lib/python3.11/dist-packages (from httpx>=0.24.1->gradio) (1.0.9)\n",
            "Requirement already satisfied: h11>=0.16 in /usr/local/lib/python3.11/dist-packages (from httpcore==1.*->httpx>=0.24.1->gradio) (0.16.0)\n",
            "Requirement already satisfied: filelock in /usr/local/lib/python3.11/dist-packages (from huggingface-hub>=0.28.1->gradio) (3.18.0)\n",
            "Requirement already satisfied: requests in /usr/local/lib/python3.11/dist-packages (from huggingface-hub>=0.28.1->gradio) (2.32.3)\n",
            "Requirement already satisfied: tqdm>=4.42.1 in /usr/local/lib/python3.11/dist-packages (from huggingface-hub>=0.28.1->gradio) (4.67.1)\n",
            "Requirement already satisfied: hf-xet<2.0.0,>=1.1.2 in /usr/local/lib/python3.11/dist-packages (from huggingface-hub>=0.28.1->gradio) (1.1.2)\n",
            "Requirement already satisfied: python-dateutil>=2.8.2 in /usr/local/lib/python3.11/dist-packages (from pandas<3.0,>=1.0->gradio) (2.9.0.post0)\n",
            "Requirement already satisfied: pytz>=2020.1 in /usr/local/lib/python3.11/dist-packages (from pandas<3.0,>=1.0->gradio) (2025.2)\n",
            "Requirement already satisfied: tzdata>=2022.7 in /usr/local/lib/python3.11/dist-packages (from pandas<3.0,>=1.0->gradio) (2025.2)\n",
            "Requirement already satisfied: annotated-types>=0.6.0 in /usr/local/lib/python3.11/dist-packages (from pydantic<2.12,>=2.0->gradio) (0.7.0)\n",
            "Requirement already satisfied: pydantic-core==2.33.2 in /usr/local/lib/python3.11/dist-packages (from pydantic<2.12,>=2.0->gradio) (2.33.2)\n",
            "Requirement already satisfied: typing-inspection>=0.4.0 in /usr/local/lib/python3.11/dist-packages (from pydantic<2.12,>=2.0->gradio) (0.4.1)\n",
            "Requirement already satisfied: click>=8.0.0 in /usr/local/lib/python3.11/dist-packages (from typer<1.0,>=0.12->gradio) (8.2.1)\n",
            "Requirement already satisfied: shellingham>=1.3.0 in /usr/local/lib/python3.11/dist-packages (from typer<1.0,>=0.12->gradio) (1.5.4)\n",
            "Requirement already satisfied: rich>=10.11.0 in /usr/local/lib/python3.11/dist-packages (from typer<1.0,>=0.12->gradio) (13.9.4)\n",
            "Requirement already satisfied: six>=1.5 in /usr/local/lib/python3.11/dist-packages (from python-dateutil>=2.8.2->pandas<3.0,>=1.0->gradio) (1.17.0)\n",
            "Requirement already satisfied: markdown-it-py>=2.2.0 in /usr/local/lib/python3.11/dist-packages (from rich>=10.11.0->typer<1.0,>=0.12->gradio) (3.0.0)\n",
            "Requirement already satisfied: pygments<3.0.0,>=2.13.0 in /usr/local/lib/python3.11/dist-packages (from rich>=10.11.0->typer<1.0,>=0.12->gradio) (2.19.1)\n",
            "Requirement already satisfied: charset-normalizer<4,>=2 in /usr/local/lib/python3.11/dist-packages (from requests->huggingface-hub>=0.28.1->gradio) (3.4.2)\n",
            "Requirement already satisfied: urllib3<3,>=1.21.1 in /usr/local/lib/python3.11/dist-packages (from requests->huggingface-hub>=0.28.1->gradio) (2.4.0)\n",
            "Requirement already satisfied: mdurl~=0.1 in /usr/local/lib/python3.11/dist-packages (from markdown-it-py>=2.2.0->rich>=10.11.0->typer<1.0,>=0.12->gradio) (0.1.2)\n"
          ]
        }
      ],
      "source": [
        "!pip install gradio"
      ]
    },
    {
      "cell_type": "code",
      "execution_count": 48,
      "metadata": {
        "id": "RzPG-w_HEs5V"
      },
      "outputs": [],
      "source": [
        "import gradio as gr"
      ]
    },
    {
      "cell_type": "code",
      "execution_count": 49,
      "metadata": {
        "id": "JwZl7Q3dpj1V"
      },
      "outputs": [],
      "source": [
        "import numpy as np"
      ]
    },
    {
      "cell_type": "markdown",
      "metadata": {
        "id": "HAwcctbJGij-"
      },
      "source": [
        "Load model and tokenizer"
      ]
    },
    {
      "cell_type": "code",
      "execution_count": 80,
      "metadata": {
        "colab": {
          "base_uri": "https://localhost:8080/"
        },
        "id": "x0YopuDcGRyI",
        "outputId": "9bfac9ce-c2eb-4e0b-ecc2-c00f0d2ceb7a"
      },
      "outputs": [
        {
          "name": "stderr",
          "output_type": "stream",
          "text": [
            "All model checkpoint layers were used when initializing TFRobertaForSequenceClassification.\n",
            "\n",
            "All the layers of TFRobertaForSequenceClassification were initialized from the model checkpoint at spam_tl.\n",
            "If your task is similar to the task the model of the checkpoint was trained on, you can already use TFRobertaForSequenceClassification for predictions without further training.\n"
          ]
        },
        {
          "name": "stdout",
          "output_type": "stream",
          "text": [
            "Model & tokenizer loaded !\n"
          ]
        }
      ],
      "source": [
        "from transformers import TFRobertaForSequenceClassification, AutoTokenizer\n",
        "\n",
        "model = TFRobertaForSequenceClassification.from_pretrained(\"spam_tl\")\n",
        "tokenizer = AutoTokenizer.from_pretrained(\"spam_tokenizer_tl\")\n",
        "print(\"Model & tokenizer loaded !\")\n"
      ]
    },
    {
      "cell_type": "code",
      "execution_count": 81,
      "metadata": {
        "id": "FWnKv6JZG6x2"
      },
      "outputs": [],
      "source": [
        "def predict_spam(text):\n",
        "    # Text Tokenization\n",
        "    inputs = tokenizer(text, return_tensors=\"tf\", truncation=True, padding=True, max_length=512)\n",
        "\n",
        "    # Prediction with the model\n",
        "    logits = model(inputs.data)[0]\n",
        "\n",
        "    # Get predicted class (0 = Ham, 1 = Spam)\n",
        "    pred_class = np.argmax(logits, axis=1)[0]\n",
        "\n",
        "    result=\"\"\n",
        "    if pred_class == 1:\n",
        "        result = \"Spam 🛑\"\n",
        "    else:\n",
        "        result = \"Ham ✅\"\n",
        "\n",
        "    return result"
      ]
    },
    {
      "cell_type": "code",
      "execution_count": 82,
      "metadata": {
        "colab": {
          "background_save": true,
          "base_uri": "https://localhost:8080/",
          "height": 646
        },
        "id": "Ta6hnYw7G-zi",
        "outputId": "c8f7f75d-ccae-4512-9bd4-85c2246a7e66"
      },
      "outputs": [
        {
          "name": "stdout",
          "output_type": "stream",
          "text": [
            "* Running on local URL:  http://127.0.0.1:7860\n",
            "\n",
            "To create a public link, set `share=True` in `launch()`.\n"
          ]
        },
        {
          "data": {
            "text/html": [
              "<div><iframe src=\"http://127.0.0.1:7860/\" width=\"100%\" height=\"500\" allow=\"autoplay; camera; microphone; clipboard-read; clipboard-write;\" frameborder=\"0\" allowfullscreen></iframe></div>"
            ],
            "text/plain": [
              "<IPython.core.display.HTML object>"
            ]
          },
          "metadata": {},
          "output_type": "display_data"
        },
        {
          "name": "stdout",
          "output_type": "stream",
          "text": [
            "Keyboard interruption in main thread... closing server.\n"
          ]
        },
        {
          "data": {
            "text/plain": []
          },
          "execution_count": 82,
          "metadata": {},
          "output_type": "execute_result"
        }
      ],
      "source": [
        "app = gr.Interface(\n",
        "    fn=predict_spam,\n",
        "    inputs=gr.Textbox(label=\"Enter a message \"),\n",
        "    outputs=gr.Label(label=\"Result\"),\n",
        "    title=\"Spam Detector with Transfer Learning\",\n",
        "    description=\"Enter a message to see if it is detected as 'Spam' or 'Ham'!\"\n",
        ")\n",
        "\n",
        "app.launch(debug=True)\n"
      ]
    }
  ],
  "metadata": {
    "colab": {
      "provenance": []
    },
    "kernelspec": {
      "display_name": "base",
      "language": "python",
      "name": "python3"
    },
    "language_info": {
      "codemirror_mode": {
        "name": "ipython",
        "version": 3
      },
      "file_extension": ".py",
      "mimetype": "text/x-python",
      "name": "python",
      "nbconvert_exporter": "python",
      "pygments_lexer": "ipython3",
      "version": "3.12.3"
    },
  },
  "nbformat": 4,
  "nbformat_minor": 0
}
